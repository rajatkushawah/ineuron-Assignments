{
 "cells": [
  {
   "cell_type": "markdown",
   "id": "95349af9",
   "metadata": {},
   "source": [
    "que1- What is the result of the code, and why?"
   ]
  },
  {
   "cell_type": "code",
   "execution_count": 1,
   "id": "6e10461e",
   "metadata": {},
   "outputs": [
    {
     "name": "stdout",
     "output_type": "stream",
     "text": [
      "1 2 8\n"
     ]
    }
   ],
   "source": [
    "def func(a, b=6, c=8): \n",
    "    print(a, b, c)\n",
    "func(1, 2)"
   ]
  },
  {
   "cell_type": "markdown",
   "id": "6dfa3bd9",
   "metadata": {},
   "source": [
    "ans1- func() takes two values, that is 1 and 2 respectively, but the func() is defined to take 3 values, as in func() we pass only two values, the third value comes from the default value, that is c = 8."
   ]
  },
  {
   "cell_type": "markdown",
   "id": "f5b6ad26",
   "metadata": {},
   "source": [
    "que2- What is the result of this code, and why?"
   ]
  },
  {
   "cell_type": "code",
   "execution_count": 2,
   "id": "096e04aa",
   "metadata": {},
   "outputs": [
    {
     "name": "stdout",
     "output_type": "stream",
     "text": [
      "1 2 3\n"
     ]
    }
   ],
   "source": [
    "def func(a, b, c=5):\n",
    "    print(a, b, c)\n",
    "func(1, c=3, b=2)"
   ]
  },
  {
   "cell_type": "markdown",
   "id": "6f56ac9c",
   "metadata": {},
   "source": [
    "ans2- func() takes three values, that is 1 , c= 3 snd b = 2 respectively,the func() is defined to take 3 values, as in func() we pass othree values, the default values gets overwritten, and we get the newly passed values."
   ]
  },
  {
   "cell_type": "markdown",
   "id": "cb316655",
   "metadata": {},
   "source": [
    "que3- How about this code: what is its result, and why?"
   ]
  },
  {
   "cell_type": "code",
   "execution_count": 3,
   "id": "b273c8e2",
   "metadata": {},
   "outputs": [
    {
     "name": "stdout",
     "output_type": "stream",
     "text": [
      "1 (2, 3)\n"
     ]
    }
   ],
   "source": [
    "def func(a, *pargs):\n",
    "    print(a, pargs)\n",
    "func(1, 2, 3)"
   ]
  },
  {
   "cell_type": "markdown",
   "id": "0b7772b6",
   "metadata": {},
   "source": [
    "ans3- pargs allows you to do is take in more arguments than the number of formal arguments that you previously defined."
   ]
  },
  {
   "cell_type": "markdown",
   "id": "e035216f",
   "metadata": {},
   "source": [
    "que4- What does this code print, and why?"
   ]
  },
  {
   "cell_type": "code",
   "execution_count": 5,
   "id": "413a1b7b",
   "metadata": {},
   "outputs": [
    {
     "name": "stdout",
     "output_type": "stream",
     "text": [
      "1 {'c': 3, 'b': 2}\n"
     ]
    }
   ],
   "source": [
    "def func(a, **kargs):\n",
    "    print(a, kargs)\n",
    "func(a=1, c=3, b=2)"
   ]
  },
  {
   "cell_type": "markdown",
   "id": "60c770f3",
   "metadata": {},
   "source": [
    "ans4- The special syntax **kargs in function definitions in python is used to pass a keyworded, variable-length argument list. it's saves the values in dictionary format."
   ]
  },
  {
   "cell_type": "markdown",
   "id": "3b2b6eaf",
   "metadata": {},
   "source": [
    "que5- What gets printed by this, and explain?"
   ]
  },
  {
   "cell_type": "code",
   "execution_count": 6,
   "id": "acace7cd",
   "metadata": {},
   "outputs": [
    {
     "name": "stdout",
     "output_type": "stream",
     "text": [
      "1 5 6 5\n"
     ]
    }
   ],
   "source": [
    "def func(a, b, c=8, d=5): \n",
    "    print(a, b, c, d)\n",
    "func(1, *(5, 6))"
   ]
  },
  {
   "cell_type": "markdown",
   "id": "0dd3e9da",
   "metadata": {},
   "source": [
    "ans5- func() takes 4 values but we pass one value short so it takes three values and define them as a=1,b=5,c=6 and d=5 as it defines in it."
   ]
  },
  {
   "cell_type": "markdown",
   "id": "9cde2732",
   "metadata": {},
   "source": [
    "que6- what is the result of this, and explain?"
   ]
  },
  {
   "cell_type": "code",
   "execution_count": 8,
   "id": "71b13123",
   "metadata": {},
   "outputs": [],
   "source": [
    "def func(a, b, c): \n",
    "    a = 2; b[0] = 'x'; c['a'] = 'y'\n",
    "l=1; m=[1]; n={'a':0}\n",
    "func(l, m, n)"
   ]
  },
  {
   "cell_type": "markdown",
   "id": "24cc75ff",
   "metadata": {},
   "source": [
    "ans6- Nothing"
   ]
  }
 ],
 "metadata": {
  "kernelspec": {
   "display_name": "Python 3 (ipykernel)",
   "language": "python",
   "name": "python3"
  },
  "language_info": {
   "codemirror_mode": {
    "name": "ipython",
    "version": 3
   },
   "file_extension": ".py",
   "mimetype": "text/x-python",
   "name": "python",
   "nbconvert_exporter": "python",
   "pygments_lexer": "ipython3",
   "version": "3.9.7"
  }
 },
 "nbformat": 4,
 "nbformat_minor": 5
}
