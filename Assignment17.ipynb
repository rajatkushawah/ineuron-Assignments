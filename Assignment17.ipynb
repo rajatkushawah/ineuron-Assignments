{
 "cells": [
  {
   "cell_type": "markdown",
   "id": "e7e61e23",
   "metadata": {},
   "source": [
    "que1- Assign the value 7 to the variable guess_me. Then, write the conditional tests (if, else, and elif) to print the string 'too low' if guess_me is less than 7, 'too high' if greater than 7, and 'just right' if equal to 7."
   ]
  },
  {
   "cell_type": "markdown",
   "id": "e2c3d0f5",
   "metadata": {},
   "source": [
    "ans1- "
   ]
  },
  {
   "cell_type": "code",
   "execution_count": 2,
   "id": "70462146",
   "metadata": {},
   "outputs": [
    {
     "name": "stdout",
     "output_type": "stream",
     "text": [
      "just right\n"
     ]
    }
   ],
   "source": [
    "guess_me = 7\n",
    "\n",
    "if guess_me < 7:\n",
    "     print('too low')\n",
    "elif guess_me > 7:\n",
    "     print('too high')\n",
    "else:\n",
    "     print('just right')"
   ]
  },
  {
   "cell_type": "markdown",
   "id": "d74d96c0",
   "metadata": {},
   "source": [
    "que2- Assign the value 7 to the variable guess_me and the value 1 to the variable start. Write a while loop that compares start with guess_me. Print too low if start is less than guess me. If start equals guess_me, print 'found it!' and exit the loop. If start is greater than guess_me, print 'oops' and exit the loop. Increment start at the end of the loop."
   ]
  },
  {
   "cell_type": "markdown",
   "id": "30ab6907",
   "metadata": {},
   "source": [
    "ans2-"
   ]
  },
  {
   "cell_type": "code",
   "execution_count": 9,
   "id": "6a304c4a",
   "metadata": {},
   "outputs": [
    {
     "name": "stdout",
     "output_type": "stream",
     "text": [
      "too low\n",
      "too low\n",
      "too low\n",
      "too low\n",
      "too low\n",
      "too low\n",
      "found it!\n"
     ]
    }
   ],
   "source": [
    "guess_me = 7\n",
    "start = 1\n",
    "\n",
    "while True:\n",
    "    if start < guess_me:\n",
    "        print('too low')\n",
    "    elif start == guess_me:\n",
    "        print('found it!')\n",
    "        break\n",
    "    elif start > guess_me:\n",
    "        print('oops')\n",
    "        break\n",
    "    start += 1"
   ]
  },
  {
   "cell_type": "markdown",
   "id": "e9dfa037",
   "metadata": {},
   "source": [
    "que3- Print the following values of the list [3, 2, 1, 0] using a for loop."
   ]
  },
  {
   "cell_type": "markdown",
   "id": "a564418e",
   "metadata": {},
   "source": [
    "ans3- "
   ]
  },
  {
   "cell_type": "code",
   "execution_count": 10,
   "id": "2d498b2a",
   "metadata": {},
   "outputs": [
    {
     "name": "stdout",
     "output_type": "stream",
     "text": [
      "3\n",
      "2\n",
      "1\n",
      "0\n"
     ]
    }
   ],
   "source": [
    "List = [3,2,1,0]\n",
    "for i in List:\n",
    "    print(i)"
   ]
  },
  {
   "cell_type": "markdown",
   "id": "bc3ff086",
   "metadata": {},
   "source": [
    "que4- Use a list comprehension to make a list of the even numbers in range(10)."
   ]
  },
  {
   "cell_type": "markdown",
   "id": "f1eb8297",
   "metadata": {},
   "source": [
    "ans4- "
   ]
  },
  {
   "cell_type": "code",
   "execution_count": 35,
   "id": "2eb3d0a7",
   "metadata": {},
   "outputs": [
    {
     "data": {
      "text/plain": [
       "[0, 2, 4, 6, 8]"
      ]
     },
     "execution_count": 35,
     "metadata": {},
     "output_type": "execute_result"
    }
   ],
   "source": [
    "even = [i for i in range(10) if i % 2 == 0]\n",
    "even"
   ]
  },
  {
   "cell_type": "markdown",
   "id": "b546d46f",
   "metadata": {},
   "source": [
    "que5- Use a dictionary comprehension to create the dictionary squares. Use range(10) to return the keys, and use the square of each key as its value."
   ]
  },
  {
   "cell_type": "markdown",
   "id": "e8c3cd32",
   "metadata": {},
   "source": [
    "ans5- "
   ]
  },
  {
   "cell_type": "code",
   "execution_count": 46,
   "id": "4898a24d",
   "metadata": {},
   "outputs": [
    {
     "data": {
      "text/plain": [
       "{0: 0, 1: 1, 2: 4, 3: 9, 4: 16, 5: 25, 6: 36, 7: 49, 8: 64, 9: 81}"
      ]
     },
     "execution_count": 46,
     "metadata": {},
     "output_type": "execute_result"
    }
   ],
   "source": [
    "dic = {key:key**2 for key in range(10)}\n",
    "dic"
   ]
  },
  {
   "cell_type": "markdown",
   "id": "e70be75a",
   "metadata": {},
   "source": [
    "que6- Construct the set odd from the odd numbers in the range using a set comprehension (10)."
   ]
  },
  {
   "cell_type": "markdown",
   "id": "12de046f",
   "metadata": {},
   "source": [
    "ans6-"
   ]
  },
  {
   "cell_type": "code",
   "execution_count": 49,
   "id": "c1182172",
   "metadata": {},
   "outputs": [
    {
     "data": {
      "text/plain": [
       "{1, 3, 5, 7, 9}"
      ]
     },
     "execution_count": 49,
     "metadata": {},
     "output_type": "execute_result"
    }
   ],
   "source": [
    "odd = {i for i in range(10) if i % 2 == 1}\n",
    "odd"
   ]
  },
  {
   "cell_type": "markdown",
   "id": "6c548d46",
   "metadata": {},
   "source": [
    "que7- Use a generator comprehension to return the string 'Got ' and a number for the numbers in range(10). Iterate through this by using a for loop."
   ]
  },
  {
   "cell_type": "markdown",
   "id": "b7ad6a22",
   "metadata": {},
   "source": [
    "ans7-"
   ]
  },
  {
   "cell_type": "code",
   "execution_count": 51,
   "id": "00f204ed",
   "metadata": {},
   "outputs": [
    {
     "name": "stdout",
     "output_type": "stream",
     "text": [
      "Got 0\n",
      "Got 1\n",
      "Got 2\n",
      "Got 3\n",
      "Got 4\n",
      "Got 5\n",
      "Got 6\n",
      "Got 7\n",
      "Got 8\n",
      "Got 9\n"
     ]
    }
   ],
   "source": [
    "for i in ('Got %s' % n for n in range(10)):\n",
    "    print(i)"
   ]
  },
  {
   "cell_type": "markdown",
   "id": "7d1910b5",
   "metadata": {},
   "source": [
    "que8- Define a function called good that returns the list ['Harry', 'Ron', 'Hermione']."
   ]
  },
  {
   "cell_type": "markdown",
   "id": "52f52dbe",
   "metadata": {},
   "source": [
    "ans8-"
   ]
  },
  {
   "cell_type": "code",
   "execution_count": 52,
   "id": "2a5392e9",
   "metadata": {},
   "outputs": [
    {
     "data": {
      "text/plain": [
       "['Harry', 'Ron', 'Hermione']"
      ]
     },
     "execution_count": 52,
     "metadata": {},
     "output_type": "execute_result"
    }
   ],
   "source": [
    "def good():\n",
    "    return ['Harry', 'Ron', 'Hermione']\n",
    "good()"
   ]
  },
  {
   "cell_type": "markdown",
   "id": "5a246de6",
   "metadata": {},
   "source": [
    "que9- Define a generator function called get_odds that returns the odd numbers from range(10). Use a for loop to find and print the third value returned."
   ]
  },
  {
   "cell_type": "markdown",
   "id": "4ea522f9",
   "metadata": {},
   "source": [
    "ans9-"
   ]
  },
  {
   "cell_type": "code",
   "execution_count": 54,
   "id": "51568cad",
   "metadata": {},
   "outputs": [
    {
     "name": "stdout",
     "output_type": "stream",
     "text": [
      "The third odd number is 5\n"
     ]
    }
   ],
   "source": [
    "def get_odds():\n",
    "    for i in range(1, 10, 2):\n",
    "        yield i\n",
    "count = 1\n",
    "for i in get_odds():\n",
    "    if count == 3:\n",
    "        print(\"The third odd number is\", i)\n",
    "        break\n",
    "    count += 1"
   ]
  },
  {
   "cell_type": "markdown",
   "id": "12bc8a8e",
   "metadata": {},
   "source": [
    "que10- Define an exception called OopsException. Raise this exception to see what happens. Then write the code to catch this exception and print 'Caught an oops'."
   ]
  },
  {
   "cell_type": "markdown",
   "id": "a4ad3d73",
   "metadata": {},
   "source": [
    "ans10-"
   ]
  },
  {
   "cell_type": "code",
   "execution_count": 55,
   "id": "9b0596ae",
   "metadata": {},
   "outputs": [
    {
     "ename": "OopsException",
     "evalue": "",
     "output_type": "error",
     "traceback": [
      "\u001b[1;31m---------------------------------------------------------------------------\u001b[0m",
      "\u001b[1;31mOopsException\u001b[0m                             Traceback (most recent call last)",
      "\u001b[1;32m~\\AppData\\Local\\Temp/ipykernel_7408/3576759326.py\u001b[0m in \u001b[0;36m<module>\u001b[1;34m\u001b[0m\n\u001b[0;32m      1\u001b[0m \u001b[1;32mclass\u001b[0m \u001b[0mOopsException\u001b[0m\u001b[1;33m(\u001b[0m\u001b[0mException\u001b[0m\u001b[1;33m)\u001b[0m\u001b[1;33m:\u001b[0m\u001b[1;33m\u001b[0m\u001b[1;33m\u001b[0m\u001b[0m\n\u001b[0;32m      2\u001b[0m     \u001b[1;32mpass\u001b[0m\u001b[1;33m\u001b[0m\u001b[1;33m\u001b[0m\u001b[0m\n\u001b[1;32m----> 3\u001b[1;33m \u001b[1;32mraise\u001b[0m \u001b[0mOopsException\u001b[0m\u001b[1;33m(\u001b[0m\u001b[1;33m)\u001b[0m\u001b[1;33m\u001b[0m\u001b[1;33m\u001b[0m\u001b[0m\n\u001b[0m",
      "\u001b[1;31mOopsException\u001b[0m: "
     ]
    }
   ],
   "source": [
    "class OopsException(Exception):\n",
    "    pass\n",
    "raise OopsException()"
   ]
  },
  {
   "cell_type": "code",
   "execution_count": 56,
   "id": "3c535750",
   "metadata": {},
   "outputs": [
    {
     "name": "stdout",
     "output_type": "stream",
     "text": [
      "Caught an oops\n"
     ]
    }
   ],
   "source": [
    "try:\n",
    "    raise OopsException\n",
    "except OopsException:\n",
    "    print('Caught an oops')"
   ]
  },
  {
   "cell_type": "markdown",
   "id": "3ecd50fe",
   "metadata": {},
   "source": [
    "que11- Use zip() to make a dictionary called movies that pairs these lists: titles = ['Creature of Habit', 'Crewel Fate'] and plots = ['A nun turns into a monster', 'A haunted yarn shop']."
   ]
  },
  {
   "cell_type": "markdown",
   "id": "3191ef04",
   "metadata": {},
   "source": [
    "ans11- "
   ]
  },
  {
   "cell_type": "code",
   "execution_count": 57,
   "id": "fc0b6fb4",
   "metadata": {},
   "outputs": [
    {
     "data": {
      "text/plain": [
       "{'Creature of Habit': 'A nun turns into a monster',\n",
       " 'Crewel Fate': 'A haunted yarn shop'}"
      ]
     },
     "execution_count": 57,
     "metadata": {},
     "output_type": "execute_result"
    }
   ],
   "source": [
    "titles = ['Creature of Habit', 'Crewel Fate']\n",
    "plots = ['A nun turns into a monster', 'A haunted yarn shop']\n",
    "movies = dict(zip(titles, plots))\n",
    "movies"
   ]
  }
 ],
 "metadata": {
  "kernelspec": {
   "display_name": "Python 3 (ipykernel)",
   "language": "python",
   "name": "python3"
  },
  "language_info": {
   "codemirror_mode": {
    "name": "ipython",
    "version": 3
   },
   "file_extension": ".py",
   "mimetype": "text/x-python",
   "name": "python",
   "nbconvert_exporter": "python",
   "pygments_lexer": "ipython3",
   "version": "3.9.7"
  }
 },
 "nbformat": 4,
 "nbformat_minor": 5
}
