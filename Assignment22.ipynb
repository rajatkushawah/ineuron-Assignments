{
 "cells": [
  {
   "cell_type": "markdown",
   "id": "84741e7a",
   "metadata": {},
   "source": [
    "que1- What is the result of the code, and explain?"
   ]
  },
  {
   "cell_type": "code",
   "execution_count": 2,
   "id": "ab717c6f",
   "metadata": {},
   "outputs": [],
   "source": [
    "X = 'iNeuron'\n",
    "def func():\n",
    "    print(X)"
   ]
  },
  {
   "cell_type": "code",
   "execution_count": 3,
   "id": "c6ee57a5",
   "metadata": {},
   "outputs": [
    {
     "name": "stdout",
     "output_type": "stream",
     "text": [
      "iNeuron\n"
     ]
    }
   ],
   "source": [
    "func()"
   ]
  },
  {
   "cell_type": "markdown",
   "id": "153c057a",
   "metadata": {},
   "source": [
    "ans1- func() Call the function we defined which prints the value of X."
   ]
  },
  {
   "cell_type": "markdown",
   "id": "9418b216",
   "metadata": {},
   "source": [
    "que2- What is the result of the code, and explain?"
   ]
  },
  {
   "cell_type": "code",
   "execution_count": 4,
   "id": "3599f5c7",
   "metadata": {},
   "outputs": [],
   "source": [
    "X = 'iNeuron'\n",
    "def func():\n",
    "    X = 'NI!'\n",
    "func()"
   ]
  },
  {
   "cell_type": "code",
   "execution_count": 5,
   "id": "6bd6bb19",
   "metadata": {},
   "outputs": [
    {
     "name": "stdout",
     "output_type": "stream",
     "text": [
      "iNeuron\n"
     ]
    }
   ],
   "source": [
    "print(X)"
   ]
  },
  {
   "cell_type": "markdown",
   "id": "250f485d",
   "metadata": {},
   "source": [
    "ans2- \"func()\" statement calls the function we define with the value of X='NI!', but doesn't print it bcoz there is no print statement in it on the other hand \"print(X)\" statement print the value of X='iNeuron' bcoz it is outside the function."
   ]
  },
  {
   "cell_type": "code",
   "execution_count": null,
   "id": "acbb4a2d",
   "metadata": {},
   "outputs": [],
   "source": [
    "que3- What does this code print, and why?"
   ]
  },
  {
   "cell_type": "code",
   "execution_count": 7,
   "id": "96dca8fd",
   "metadata": {},
   "outputs": [
    {
     "name": "stdout",
     "output_type": "stream",
     "text": [
      "NI\n"
     ]
    }
   ],
   "source": [
    "X = 'iNeuron'\n",
    "def func():\n",
    "    X = 'NI'\n",
    "    print(X)\n",
    "func()"
   ]
  },
  {
   "cell_type": "code",
   "execution_count": 8,
   "id": "ab9ca761",
   "metadata": {},
   "outputs": [
    {
     "name": "stdout",
     "output_type": "stream",
     "text": [
      "iNeuron\n"
     ]
    }
   ],
   "source": [
    "print(X)"
   ]
  },
  {
   "cell_type": "markdown",
   "id": "42b1e017",
   "metadata": {},
   "source": [
    "ans3- \"func()\" statement calls the function we define with the value of X='NI' and print it. \"print(X)\" statement print the value of X='iNeuron' bcoz it is outside the function."
   ]
  },
  {
   "cell_type": "markdown",
   "id": "fc10228b",
   "metadata": {},
   "source": [
    "que4- What output does this code produce? Why?"
   ]
  },
  {
   "cell_type": "code",
   "execution_count": 11,
   "id": "c31c3c41",
   "metadata": {},
   "outputs": [],
   "source": [
    "X = 'iNeuron'\n",
    "def func():\n",
    "    global X\n",
    "    X = 'NI'\n",
    "func()"
   ]
  },
  {
   "cell_type": "code",
   "execution_count": 12,
   "id": "092acbdd",
   "metadata": {},
   "outputs": [
    {
     "name": "stdout",
     "output_type": "stream",
     "text": [
      "NI\n"
     ]
    }
   ],
   "source": [
    "print(X)"
   ]
  },
  {
   "cell_type": "markdown",
   "id": "23fbe5ec",
   "metadata": {},
   "source": [
    "ans4- \"func()\" statement calls the function we define with the value of X='NI', but doesn't print it bcoz there is no print statement in it and we use global keyword which allow us to modify the variable outside the function. \"print(X)\" statement print the value of X='NI' bcoz we use global keyword."
   ]
  },
  {
   "cell_type": "markdown",
   "id": "75a8bbcc",
   "metadata": {},
   "source": [
    "que5- What about this code—what’s the output, and why?"
   ]
  },
  {
   "cell_type": "code",
   "execution_count": 22,
   "id": "4ebce0fa",
   "metadata": {},
   "outputs": [
    {
     "name": "stdout",
     "output_type": "stream",
     "text": [
      "iNeuron\n"
     ]
    }
   ],
   "source": [
    "X = 'iNeuron'\n",
    "def func():\n",
    "    X = 'NI'\n",
    "    def nested():\n",
    "        print(X)\n",
    "nested()"
   ]
  },
  {
   "cell_type": "code",
   "execution_count": 23,
   "id": "d0abd3b9",
   "metadata": {},
   "outputs": [],
   "source": [
    "func()"
   ]
  },
  {
   "cell_type": "code",
   "execution_count": 24,
   "id": "27125392",
   "metadata": {},
   "outputs": [
    {
     "data": {
      "text/plain": [
       "'iNeuron'"
      ]
     },
     "execution_count": 24,
     "metadata": {},
     "output_type": "execute_result"
    }
   ],
   "source": [
    "X"
   ]
  },
  {
   "cell_type": "markdown",
   "id": "58aacae3",
   "metadata": {},
   "source": [
    "ans5- nested() function prints the value of X='iNeuron' bcoz it takes it value from outside the function. func() doesn't have print statement so no output and X is the variable of 'iNeuron'."
   ]
  },
  {
   "cell_type": "markdown",
   "id": "bb2128df",
   "metadata": {},
   "source": [
    "que6- How about this code: what is its output in Python 3, and explain?"
   ]
  },
  {
   "cell_type": "code",
   "execution_count": 25,
   "id": "00798023",
   "metadata": {},
   "outputs": [],
   "source": [
    "def func():\n",
    "    X = 'NI'\n",
    "    def nested():\n",
    "        nonlocal X\n",
    "        X = 'Spam'\n",
    "    nested()"
   ]
  },
  {
   "cell_type": "code",
   "execution_count": 26,
   "id": "775728ff",
   "metadata": {},
   "outputs": [
    {
     "name": "stdout",
     "output_type": "stream",
     "text": [
      "iNeuron\n"
     ]
    }
   ],
   "source": [
    "print(X)"
   ]
  },
  {
   "cell_type": "code",
   "execution_count": 27,
   "id": "3ed26f28",
   "metadata": {},
   "outputs": [],
   "source": [
    "func()"
   ]
  },
  {
   "cell_type": "markdown",
   "id": "1543b249",
   "metadata": {},
   "source": [
    "ans6- The nonlocal keyword is used to work with variables inside nested functions, where the variable should not belong to the inner function"
   ]
  }
 ],
 "metadata": {
  "kernelspec": {
   "display_name": "Python 3 (ipykernel)",
   "language": "python",
   "name": "python3"
  },
  "language_info": {
   "codemirror_mode": {
    "name": "ipython",
    "version": 3
   },
   "file_extension": ".py",
   "mimetype": "text/x-python",
   "name": "python",
   "nbconvert_exporter": "python",
   "pygments_lexer": "ipython3",
   "version": "3.9.7"
  }
 },
 "nbformat": 4,
 "nbformat_minor": 5
}
