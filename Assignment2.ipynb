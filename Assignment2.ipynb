{
 "cells": [
  {
   "cell_type": "markdown",
   "id": "89e1a9a9",
   "metadata": {},
   "source": [
    "que1- What are the two values of the Boolean data type? How do you write them?"
   ]
  },
  {
   "cell_type": "markdown",
   "id": "7ad14cee",
   "metadata": {},
   "source": [
    "ans- The two values of the boolean data type are True and False. they are written as First letter capital and rest are in lower cases."
   ]
  },
  {
   "cell_type": "markdown",
   "id": "7452f4a2",
   "metadata": {},
   "source": [
    "que2- What are the three different types of Boolean operators?"
   ]
  },
  {
   "cell_type": "markdown",
   "id": "d5c7f8c1",
   "metadata": {},
   "source": [
    "ans- and , or , not"
   ]
  },
  {
   "cell_type": "markdown",
   "id": "13c56896",
   "metadata": {},
   "source": [
    "que3- Make a list of each Boolean operator's truth tables (i.e. every possible combination of Boolean values for the operator and what it evaluate )."
   ]
  },
  {
   "cell_type": "markdown",
   "id": "b4e91241",
   "metadata": {},
   "source": [
    "ans- True and True is True.\n",
    "\n",
    "   True and False is False.\n",
    "\n",
    "   False and True is False.\n",
    "\n",
    "   False and False is False.\n",
    "\n",
    "   True or True is True.\n",
    "\n",
    "   True or False is True.\n",
    "\n",
    "   False or True is True.\n",
    "\n",
    "   False or False is False.\n",
    "\n",
    "   not True is False.\n",
    "\n",
    "   not False is True."
   ]
  },
  {
   "cell_type": "markdown",
   "id": "84cbc1f3",
   "metadata": {},
   "source": [
    "que4- What are the values of the following expressions?\n",
    "(5 > 4) and (3 == 5),\n",
    "not (5 > 4),\n",
    "(5 > 4) or (3 == 5),\n",
    "not ((5 > 4) or (3 == 5)),\n",
    "(True and True) and (True == False),\n",
    "(not False) or (not True)"
   ]
  },
  {
   "cell_type": "markdown",
   "id": "2169ed5b",
   "metadata": {},
   "source": [
    "ans- (5 > 4) and (3 == 5) is False\n",
    "\n",
    "   not (5 > 4) is False\n",
    "\n",
    "   (5 > 4) or (3 == 5) is True\n",
    "        \n",
    "   not ((5 > 4) or (3 == 5)) is False\n",
    "     \n",
    "   (True and True) and (True == False) is False\n",
    "     \n",
    "   (not False) or (not True) is True"
   ]
  },
  {
   "cell_type": "markdown",
   "id": "7f2d0fdd",
   "metadata": {},
   "source": [
    "que5- What are the six comparison operators?"
   ]
  },
  {
   "cell_type": "markdown",
   "id": "0f551b77",
   "metadata": {},
   "source": [
    "ans- less than(<) , greater than(>) , less than or equal to (<=) , greater than or equal to (>=) , equal to(==) , not equal to(!=)"
   ]
  },
  {
   "cell_type": "markdown",
   "id": "f9468c92",
   "metadata": {},
   "source": [
    "que6- How do you tell the difference between the equal to and assignment operators?Describe a condition and when you would use one."
   ]
  },
  {
   "cell_type": "markdown",
   "id": "c7adf77d",
   "metadata": {},
   "source": [
    "ans- The equal to(==) operator checks whether the two given values are equal or not. if so, it return True otherwise it returns False.\n",
    "\n",
    "example- "
   ]
  },
  {
   "cell_type": "code",
   "execution_count": 14,
   "id": "f713a593",
   "metadata": {},
   "outputs": [
    {
     "data": {
      "text/plain": [
       "True"
      ]
     },
     "execution_count": 14,
     "metadata": {},
     "output_type": "execute_result"
    }
   ],
   "source": [
    "9==9"
   ]
  },
  {
   "cell_type": "markdown",
   "id": "47815b7d",
   "metadata": {},
   "source": [
    "on the other hand, the assignment operator(=) is used to assign the value on the right to the variable on the left.\n",
    "\n",
    "example-"
   ]
  },
  {
   "cell_type": "code",
   "execution_count": 20,
   "id": "094bac3b",
   "metadata": {},
   "outputs": [
    {
     "name": "stdout",
     "output_type": "stream",
     "text": [
      "the value of a is 9\n"
     ]
    }
   ],
   "source": [
    "a=9\n",
    "print('the value of a is',a)"
   ]
  },
  {
   "cell_type": "markdown",
   "id": "25c46409",
   "metadata": {},
   "source": [
    "que7- Identify the three blocks in this code:\n",
    "spam =10\n",
    "if spam == 10:\n",
    "print('eggs')\n",
    "if spam > 5:\n",
    "print('bacon')\n",
    "else:\n",
    "print('ham')\n",
    "print('spam')\n",
    "print('spam')"
   ]
  },
  {
   "cell_type": "markdown",
   "id": "2a9e6933",
   "metadata": {},
   "source": [
    "ans- The three blocks are everything inside the if statement and the lines print('bacon') and print('ham')."
   ]
  },
  {
   "cell_type": "markdown",
   "id": "94d4b21d",
   "metadata": {},
   "source": [
    "que8- Write code that prints Hello if 1 is stored in spam, prints Howdy if 2 is stored in spam, and prints Greetings! if anything else is stored in spam."
   ]
  },
  {
   "cell_type": "code",
   "execution_count": 38,
   "id": "2f1a0bae",
   "metadata": {},
   "outputs": [
    {
     "name": "stdout",
     "output_type": "stream",
     "text": [
      "Greetings!\n"
     ]
    }
   ],
   "source": [
    "spam = 0\n",
    "if spam == 1:\n",
    "    print('Hello')\n",
    "elif spam == 2:\n",
    "    print('Howdy')\n",
    "else:\n",
    "    print('Greetings!')"
   ]
  },
  {
   "cell_type": "markdown",
   "id": "5620d662",
   "metadata": {},
   "source": [
    "que9- If your programme is stuck in an endless loop, what keys you’ll press?"
   ]
  },
  {
   "cell_type": "markdown",
   "id": "a35b0485",
   "metadata": {},
   "source": [
    "ans- Press CTRL-C to stop a program stuck in an infinite loop."
   ]
  },
  {
   "cell_type": "markdown",
   "id": "6b514997",
   "metadata": {},
   "source": [
    "que10- How can you tell the difference between break and continue?"
   ]
  },
  {
   "cell_type": "markdown",
   "id": "5d09df48",
   "metadata": {},
   "source": [
    "ans-The break statement will move the execution outside just after a loop. \n",
    "The continue statement will move the execution to the start of the loop."
   ]
  },
  {
   "cell_type": "markdown",
   "id": "29ec307e",
   "metadata": {},
   "source": [
    "que11- In a for loop, what is the difference between range(10), range(0, 10), and range(0, 10, 1)?"
   ]
  },
  {
   "cell_type": "markdown",
   "id": "0de3c39b",
   "metadata": {},
   "source": [
    "ans- The range(10) call ranges from 0 up to 10 excluding 10, \n",
    "The range(0,10) means range(start,stop) it starts from 0 and stops at 10 excluding 10, \n",
    "the range(0,10,1) means range(start,stop,step) it starts from 0 stops at 10 excluding 10 with the step of 1.example-(0,2,4,6,8) "
   ]
  },
  {
   "cell_type": "markdown",
   "id": "d591763a",
   "metadata": {},
   "source": [
    "que12- Write a short program that prints the numbers 1 to 10 using a for loop. Then write an equivalent program that prints the numbers 1 to 10 using a while loop."
   ]
  },
  {
   "cell_type": "code",
   "execution_count": 41,
   "id": "56b3469a",
   "metadata": {},
   "outputs": [
    {
     "name": "stdout",
     "output_type": "stream",
     "text": [
      "1\n",
      "2\n",
      "3\n",
      "4\n",
      "5\n",
      "6\n",
      "7\n",
      "8\n",
      "9\n",
      "10\n"
     ]
    }
   ],
   "source": [
    "#using for loop\n",
    "for i in range(1, 11):\n",
    "    print(i)"
   ]
  },
  {
   "cell_type": "code",
   "execution_count": 48,
   "id": "a34b5944",
   "metadata": {},
   "outputs": [
    {
     "name": "stdout",
     "output_type": "stream",
     "text": [
      "1\n",
      "2\n",
      "3\n",
      "4\n",
      "5\n",
      "6\n",
      "7\n",
      "8\n",
      "9\n",
      "10\n"
     ]
    }
   ],
   "source": [
    "#using while loop\n",
    "i = 1\n",
    "while i <= 10:\n",
    "    print(i)\n",
    "    i = i + 1"
   ]
  },
  {
   "cell_type": "markdown",
   "id": "0056b29e",
   "metadata": {},
   "source": [
    "que13- If you had a function named bacon() inside a module named spam, how would you call it after importing spam?"
   ]
  },
  {
   "cell_type": "markdown",
   "id": "8980ff00",
   "metadata": {},
   "source": [
    "ans- This function can be called with spam.bacon()."
   ]
  }
 ],
 "metadata": {
  "kernelspec": {
   "display_name": "Python 3 (ipykernel)",
   "language": "python",
   "name": "python3"
  },
  "language_info": {
   "codemirror_mode": {
    "name": "ipython",
    "version": 3
   },
   "file_extension": ".py",
   "mimetype": "text/x-python",
   "name": "python",
   "nbconvert_exporter": "python",
   "pygments_lexer": "ipython3",
   "version": "3.9.7"
  }
 },
 "nbformat": 4,
 "nbformat_minor": 5
}
