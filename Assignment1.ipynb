{
 "cells": [
  {
   "cell_type": "markdown",
   "id": "f161542d",
   "metadata": {},
   "source": [
    "que1. In the below elements which of them are values or an expression? eg:- values can be integer or string and expressions will be mathematical operators.\n",
    "* \n",
    "'hello'\n",
    "-87.8\n",
    "- \n",
    "/ \n",
    "+\t\n",
    "6 \n"
   ]
  },
  {
   "cell_type": "markdown",
   "id": "7024f83b",
   "metadata": {},
   "source": [
    "ans - values - 'hello' , -87.8 , 6\n",
    "      \n",
    "      expressions - * , - , / , +"
   ]
  },
  {
   "cell_type": "markdown",
   "id": "7bc4dc2f",
   "metadata": {},
   "source": [
    "que2. What is the difference between string and variable?"
   ]
  },
  {
   "cell_type": "markdown",
   "id": "2d7a53b8",
   "metadata": {},
   "source": [
    "ans - string is a value that you write inside a quotes (' '/\" \").\n",
    "\n",
    "      ex - 'hello rajat', \"rajat09\"\n",
    "\n",
    "      Variables are symbols that you can use to store data in a program to use it again and again with the help of          variable.\n",
    "\n",
    "      ex - rajat = 9"
   ]
  },
  {
   "cell_type": "markdown",
   "id": "dc9b5f0f",
   "metadata": {},
   "source": [
    "que3. Describe three different data types."
   ]
  },
  {
   "cell_type": "markdown",
   "id": "e7038334",
   "metadata": {},
   "source": [
    "ans - 1. integer(int) - An integer is defined as a mathematical number with no decimal or fractional part. ex -             2,422,-65465\n",
    "\n",
    "\n",
    "      2. string(str) - string is a value that you write inside a quotes (' '/\" \"). it is taken as a text wheather it is a number or a alphabet. ex - \"ineuron\" , 'ineuron0123'\n",
    "\n",
    "      3. floating point(float) - a number which has a decimal point is called floating point number. ex - 45.785 , 2525.48"
   ]
  },
  {
   "cell_type": "markdown",
   "id": "6605bf52",
   "metadata": {},
   "source": [
    "que4. What is an expression made up of? What do all expressions do?"
   ]
  },
  {
   "cell_type": "markdown",
   "id": "c81e3cdd",
   "metadata": {},
   "source": [
    "ans - Expression is made up of values, variables, operators. all expressions are used to evaluate single value. ex - +,/,-,<,>"
   ]
  },
  {
   "cell_type": "markdown",
   "id": "251040dc",
   "metadata": {},
   "source": [
    "que5. This assignment statements, like spam = 10. What is the difference between an expression and a statement?"
   ]
  },
  {
   "cell_type": "markdown",
   "id": "26a76bca",
   "metadata": {},
   "source": [
    "ans - Statements represent an action or command but an expression is something that can be reduced to a value."
   ]
  },
  {
   "cell_type": "markdown",
   "id": "c0c38c37",
   "metadata": {},
   "source": [
    "que6. After running the following code, what does the variable bacon contain?\n",
    "bacon = 22\n",
    "bacon + 1"
   ]
  },
  {
   "cell_type": "code",
   "execution_count": 1,
   "id": "2c6b378d",
   "metadata": {},
   "outputs": [
    {
     "data": {
      "text/plain": [
       "23"
      ]
     },
     "execution_count": 1,
     "metadata": {},
     "output_type": "execute_result"
    }
   ],
   "source": [
    "bacon = 22\n",
    "bacon + 1"
   ]
  },
  {
   "cell_type": "raw",
   "id": "839e8e16",
   "metadata": {},
   "source": [
    "que7. What should the values of the following two terms be?\n",
    "'spam' + 'spamspam'\n",
    "'spam' * 3"
   ]
  },
  {
   "cell_type": "code",
   "execution_count": 2,
   "id": "9de181ce",
   "metadata": {},
   "outputs": [
    {
     "data": {
      "text/plain": [
       "'spamspamspam'"
      ]
     },
     "execution_count": 2,
     "metadata": {},
     "output_type": "execute_result"
    }
   ],
   "source": [
    "'spam' + 'spamspam'"
   ]
  },
  {
   "cell_type": "code",
   "execution_count": 3,
   "id": "af78e098",
   "metadata": {},
   "outputs": [
    {
     "data": {
      "text/plain": [
       "'spamspamspam'"
      ]
     },
     "execution_count": 3,
     "metadata": {},
     "output_type": "execute_result"
    }
   ],
   "source": [
    "'spam' * 3"
   ]
  },
  {
   "cell_type": "markdown",
   "id": "3fbfb562",
   "metadata": {},
   "source": [
    "que8. Why is eggs a valid variable name while 100 is invalid?"
   ]
  },
  {
   "cell_type": "markdown",
   "id": "2bb3a644",
   "metadata": {},
   "source": [
    "ans - eggs is valid as a variable because variable name can not begin with number and it does not contain a value of its own while 100 is invalid because it begins with number and it has a value of its own."
   ]
  },
  {
   "cell_type": "markdown",
   "id": "66c7e92f",
   "metadata": {},
   "source": [
    "que9. What three functions can be used to get the integer, floating-point number, or string version of a value?"
   ]
  },
  {
   "cell_type": "markdown",
   "id": "03317259",
   "metadata": {},
   "source": [
    "ans - int() , float() , str() these are the three functions which is used to get the integer, floating-point number, or string version of a value respectively."
   ]
  },
  {
   "cell_type": "markdown",
   "id": "2ea1cf33",
   "metadata": {},
   "source": [
    "que10. Why does this expression cause an error? How can you fix it?\n",
    "'I have eaten ' + 99 + ' burritos.'"
   ]
  },
  {
   "cell_type": "markdown",
   "id": "10190a7e",
   "metadata": {},
   "source": [
    "ans - this expression cause an error because you can not concatenate integer and string values only string and string or only integer and integer can be concatenated. u can fix it by using quotes(''/\"\") or str() function."
   ]
  },
  {
   "cell_type": "code",
   "execution_count": 4,
   "id": "d054d4a2",
   "metadata": {},
   "outputs": [
    {
     "data": {
      "text/plain": [
       "'I have eaten 99 burritos.'"
      ]
     },
     "execution_count": 4,
     "metadata": {},
     "output_type": "execute_result"
    }
   ],
   "source": [
    "'I have eaten ' + '99' + ' burritos.'"
   ]
  },
  {
   "cell_type": "code",
   "execution_count": 5,
   "id": "f1df156d",
   "metadata": {},
   "outputs": [
    {
     "data": {
      "text/plain": [
       "'I have eaten 99 burritos.'"
      ]
     },
     "execution_count": 5,
     "metadata": {},
     "output_type": "execute_result"
    }
   ],
   "source": [
    "'I have eaten ' + str(99) + ' burritos.'"
   ]
  },
  {
   "cell_type": "code",
   "execution_count": null,
   "id": "e08a0b73",
   "metadata": {},
   "outputs": [],
   "source": []
  }
 ],
 "metadata": {
  "kernelspec": {
   "display_name": "Python 3 (ipykernel)",
   "language": "python",
   "name": "python3"
  },
  "language_info": {
   "codemirror_mode": {
    "name": "ipython",
    "version": 3
   },
   "file_extension": ".py",
   "mimetype": "text/x-python",
   "name": "python",
   "nbconvert_exporter": "python",
   "pygments_lexer": "ipython3",
   "version": "3.9.7"
  }
 },
 "nbformat": 4,
 "nbformat_minor": 5
}
