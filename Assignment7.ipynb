{
 "cells": [
  {
   "cell_type": "markdown",
   "id": "9374c270",
   "metadata": {},
   "source": [
    "que1- What is the name of the feature responsible for generating Regex objects?"
   ]
  },
  {
   "cell_type": "markdown",
   "id": "39a1c661",
   "metadata": {},
   "source": [
    "ans1- The name of the feature responsible for generating Regex objects is re.compile() function which returns Regex objects."
   ]
  },
  {
   "cell_type": "markdown",
   "id": "116639fa",
   "metadata": {},
   "source": [
    "que2- Why do raw strings often appear in Regex objects?"
   ]
  },
  {
   "cell_type": "markdown",
   "id": "c4bdb732",
   "metadata": {},
   "source": [
    "ans2- Raw strings are used so that backslashes do not have to be escaped."
   ]
  },
  {
   "cell_type": "markdown",
   "id": "666ba9f4",
   "metadata": {},
   "source": [
    "que3- What is the return value of the search() method?"
   ]
  },
  {
   "cell_type": "markdown",
   "id": "cd753d2f",
   "metadata": {},
   "source": [
    "ans3- the return value of the search() method is that it returns Match objects.The search() function searches the string for a match, and returns a Match object if there is a match."
   ]
  },
  {
   "cell_type": "markdown",
   "id": "2f0b24d8",
   "metadata": {},
   "source": [
    "que4- From a Match item, how do you get the actual strings that match the pattern?"
   ]
  },
  {
   "cell_type": "markdown",
   "id": "824ffa27",
   "metadata": {},
   "source": [
    "ans4- The group() method returns strings of the matched text."
   ]
  },
  {
   "cell_type": "markdown",
   "id": "b2077043",
   "metadata": {},
   "source": [
    "que5- In the regex which created from the r'(\\d\\d\\d)-(\\d\\d\\d-\\d\\d\\d\\d)', what does group zero cover? Group 2? Group 1?"
   ]
  },
  {
   "cell_type": "markdown",
   "id": "323b1d12",
   "metadata": {},
   "source": [
    "ans5-Group 0 is the entire match, group 1 covers the first set of parentheses, and group 2 covers the second set of parentheses."
   ]
  },
  {
   "cell_type": "markdown",
   "id": "1c0af3a1",
   "metadata": {},
   "source": [
    "que6- In standard expression syntax, parentheses and intervals have distinct meanings. How can you tell a regex that you want it to fit real parentheses and periods?"
   ]
  },
  {
   "cell_type": "markdown",
   "id": "31f77f65",
   "metadata": {},
   "source": [
    "ans6- Periods and parentheses can be escaped with a backslash: \\"
   ]
  },
  {
   "cell_type": "markdown",
   "id": "77df45d6",
   "metadata": {},
   "source": [
    "que7- The findall() method returns a string list or a list of string tuples. What causes it to return one of the two options?"
   ]
  },
  {
   "cell_type": "markdown",
   "id": "be261f75",
   "metadata": {},
   "source": [
    "ans7- If the regex has no groups, a list of strings is returned. If the regex has groups, a list of tuples of strings is returned."
   ]
  },
  {
   "cell_type": "markdown",
   "id": "fd7f7b1f",
   "metadata": {},
   "source": [
    "que8- In standard expressions, what does the | character mean?"
   ]
  },
  {
   "cell_type": "markdown",
   "id": "28cc70f1",
   "metadata": {},
   "source": [
    "ans8- The | character signifies matching \"either, or\" between two groups."
   ]
  },
  {
   "cell_type": "markdown",
   "id": "da52890c",
   "metadata": {},
   "source": [
    "que9- In regular expressions, what does the character stand for?"
   ]
  },
  {
   "cell_type": "markdown",
   "id": "5d2d0562",
   "metadata": {},
   "source": [
    "ans9- All regular expressions characters matches themselves, except those having special meaning in regex."
   ]
  },
  {
   "cell_type": "markdown",
   "id": "f0b52005",
   "metadata": {},
   "source": [
    "que10- In regular expressions, what is the difference between the + and * characters?"
   ]
  },
  {
   "cell_type": "markdown",
   "id": "f56f696d",
   "metadata": {},
   "source": [
    "ans10- The + matches one or more. The * matches zero or more."
   ]
  },
  {
   "cell_type": "markdown",
   "id": "566d708e",
   "metadata": {},
   "source": [
    "que11- What is the difference between {4} and {4,5} in regular expression?"
   ]
  },
  {
   "cell_type": "markdown",
   "id": "b7698bb7",
   "metadata": {},
   "source": [
    "ans11- The {4} matches exactly three instances of the preceding group. The {4,5} matches between four and five instances."
   ]
  },
  {
   "cell_type": "markdown",
   "id": "299f94ce",
   "metadata": {},
   "source": [
    "que12- What do you mean by the \\d, \\w, and \\s shorthand character classes signify in regular expressions?"
   ]
  },
  {
   "cell_type": "markdown",
   "id": "e867c8fd",
   "metadata": {},
   "source": [
    "ans12-The \\d, \\w, and \\s shorthand character classes match a single digit, word, or space character, respectively."
   ]
  },
  {
   "cell_type": "markdown",
   "id": "f4198c36",
   "metadata": {},
   "source": [
    "que13- What do means by \\D, \\W, and \\S shorthand character classes signify in regular expressions?"
   ]
  },
  {
   "cell_type": "markdown",
   "id": "74b2b543",
   "metadata": {},
   "source": [
    "ans13- The \\D, \\W, and \\S shorthand character classes match a single character that is not a digit, word, or space character, respectively."
   ]
  },
  {
   "cell_type": "markdown",
   "id": "55df273e",
   "metadata": {},
   "source": [
    "que14- What is the difference between . * ? and . * ?"
   ]
  },
  {
   "cell_type": "markdown",
   "id": "9cae94ac",
   "metadata": {},
   "source": [
    "ans14- The . * ? performs a nongreedy match and the . * performs a greedy match."
   ]
  },
  {
   "cell_type": "markdown",
   "id": "1dda89b3",
   "metadata": {},
   "source": [
    "que15- What is the syntax for matching both numbers and lowercase letters with a character class?"
   ]
  },
  {
   "cell_type": "markdown",
   "id": "853104f6",
   "metadata": {},
   "source": [
    "ans15- Either [0-9a-z] or [a-z0-9]."
   ]
  },
  {
   "cell_type": "markdown",
   "id": "95927f6a",
   "metadata": {},
   "source": [
    "que16- What is the procedure for making a normal expression in regax case insensitive?"
   ]
  },
  {
   "cell_type": "markdown",
   "id": "c9c7892c",
   "metadata": {},
   "source": [
    "ans16- We can pass re.IGNORECASE to the flags parameter of search, match, or sub."
   ]
  },
  {
   "cell_type": "markdown",
   "id": "09df9434",
   "metadata": {},
   "source": [
    "que17- What does the . character normally match? What does it match if re.DOTALL is passed as 2nd argument in re.compile()?"
   ]
  },
  {
   "cell_type": "markdown",
   "id": "d1d95e40",
   "metadata": {},
   "source": [
    "ans17- The . character normally matches any character except the newline character. If re.DOTALL is passed as the second argument to re.compile(), then the dot will also match newline characters."
   ]
  },
  {
   "cell_type": "markdown",
   "id": "3746daf5",
   "metadata": {},
   "source": [
    "que18- If numReg = re.compile(r'\\d+'), what will numRegex.sub('X', '11 drummers, 10 pipers, five rings, 4 hen') return?"
   ]
  },
  {
   "cell_type": "markdown",
   "id": "8fc99a4f",
   "metadata": {},
   "source": [
    "ans18- "
   ]
  },
  {
   "cell_type": "code",
   "execution_count": 5,
   "id": "1034c95e",
   "metadata": {},
   "outputs": [
    {
     "data": {
      "text/plain": [
       "'X drummers, X pipers, five rings, X hen'"
      ]
     },
     "execution_count": 5,
     "metadata": {},
     "output_type": "execute_result"
    }
   ],
   "source": [
    "import re\n",
    "numRegex = re.compile(r'\\d+')\n",
    "numRegex.sub('X', '11 drummers, 10 pipers, five rings, 4 hen')"
   ]
  },
  {
   "cell_type": "markdown",
   "id": "231d279a",
   "metadata": {},
   "source": [
    "que19- What does passing re.VERBOSE as the 2nd argument to re.compile() allow to do?"
   ]
  },
  {
   "cell_type": "markdown",
   "id": "fe5f0880",
   "metadata": {},
   "source": [
    "ans19- The re.VERBOSE argument allows you to add whitespace and comments to the string passed to re.compile()."
   ]
  },
  {
   "cell_type": "markdown",
   "id": "f4dd60cf",
   "metadata": {},
   "source": [
    "que20- How would you write a regex that match a number with comma for every three digits? It must match the given following:"
   ]
  },
  {
   "cell_type": "markdown",
   "id": "05887688",
   "metadata": {},
   "source": [
    "'42'"
   ]
  },
  {
   "cell_type": "markdown",
   "id": "4908563e",
   "metadata": {},
   "source": [
    "'1,234'"
   ]
  },
  {
   "cell_type": "markdown",
   "id": "ff29cabd",
   "metadata": {},
   "source": [
    "'6,368,745'"
   ]
  },
  {
   "cell_type": "markdown",
   "id": "297029e3",
   "metadata": {},
   "source": [
    "but not the following:"
   ]
  },
  {
   "cell_type": "markdown",
   "id": "b50c34a4",
   "metadata": {},
   "source": [
    "'12,34,567' (which has only two digits between the commas)"
   ]
  },
  {
   "cell_type": "markdown",
   "id": "46541976",
   "metadata": {},
   "source": [
    "'1234' (which lacks commas)"
   ]
  },
  {
   "cell_type": "markdown",
   "id": "4c1643d1",
   "metadata": {},
   "source": [
    "ans20- re.compile(r'^\\d{1,3}(,\\d{3})*$') will create this regex, but other regex strings can produce a similar regular expression."
   ]
  },
  {
   "cell_type": "markdown",
   "id": "177b55dd",
   "metadata": {},
   "source": [
    "que21- How would you write a regex that matches the full name of someone whose last name is Watanabe? You can assume that the first name that comes before it will always be one word that begins with a capital letter. The regex must match the following:"
   ]
  },
  {
   "cell_type": "markdown",
   "id": "988b3330",
   "metadata": {},
   "source": [
    "'Haruto Watanabe'"
   ]
  },
  {
   "cell_type": "markdown",
   "id": "efd19954",
   "metadata": {},
   "source": [
    "'Alice Watanabe'"
   ]
  },
  {
   "cell_type": "markdown",
   "id": "6e772f89",
   "metadata": {},
   "source": [
    "'RoboCop Watanabe'"
   ]
  },
  {
   "cell_type": "markdown",
   "id": "c6068539",
   "metadata": {},
   "source": [
    "but not the following:"
   ]
  },
  {
   "cell_type": "markdown",
   "id": "37a43cd6",
   "metadata": {},
   "source": [
    "'haruto Watanabe' (where the first name is not capitalized)"
   ]
  },
  {
   "cell_type": "markdown",
   "id": "3aee2989",
   "metadata": {},
   "source": [
    "'Mr. Watanabe' (where the preceding word has a nonletter character)"
   ]
  },
  {
   "cell_type": "markdown",
   "id": "118a5512",
   "metadata": {},
   "source": [
    "'Watanabe' (which has no first name)"
   ]
  },
  {
   "cell_type": "markdown",
   "id": "dca475a2",
   "metadata": {},
   "source": [
    "'Haruto watanabe' (where Watanabe is not capitalized)"
   ]
  },
  {
   "cell_type": "markdown",
   "id": "91e31b43",
   "metadata": {},
   "source": [
    "ans21- re.compile(r'[A-Z][a-z]*\\sZoro')"
   ]
  }
 ],
 "metadata": {
  "kernelspec": {
   "display_name": "Python 3 (ipykernel)",
   "language": "python",
   "name": "python3"
  },
  "language_info": {
   "codemirror_mode": {
    "name": "ipython",
    "version": 3
   },
   "file_extension": ".py",
   "mimetype": "text/x-python",
   "name": "python",
   "nbconvert_exporter": "python",
   "pygments_lexer": "ipython3",
   "version": "3.9.7"
  }
 },
 "nbformat": 4,
 "nbformat_minor": 5
}
