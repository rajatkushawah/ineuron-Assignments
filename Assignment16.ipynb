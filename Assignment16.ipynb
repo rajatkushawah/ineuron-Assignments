{
 "cells": [
  {
   "cell_type": "markdown",
   "id": "9eb8764e",
   "metadata": {},
   "source": [
    "que1- Create a list called years_list, starting with the year of your birth, and each year thereafter until the year of your fifth birthday. For example, if you were born in 1980. the list would be years_list = [1980, 1981, 1982, 1983, 1984, 1985]."
   ]
  },
  {
   "cell_type": "markdown",
   "id": "b810569e",
   "metadata": {},
   "source": [
    "ans1-"
   ]
  },
  {
   "cell_type": "code",
   "execution_count": 1,
   "id": "74383a19",
   "metadata": {},
   "outputs": [],
   "source": [
    "years_list = [1995 , 1996 , 1997 , 1998 , 1999 , 2000]"
   ]
  },
  {
   "cell_type": "markdown",
   "id": "f875fb8a",
   "metadata": {},
   "source": [
    "que2- In which year in years_list was your third birthday? Remember, you were 0 years of age for your first year."
   ]
  },
  {
   "cell_type": "markdown",
   "id": "a97ea0b0",
   "metadata": {},
   "source": [
    "ans2-"
   ]
  },
  {
   "cell_type": "code",
   "execution_count": 3,
   "id": "a3e57f6f",
   "metadata": {},
   "outputs": [
    {
     "data": {
      "text/plain": [
       "1997"
      ]
     },
     "execution_count": 3,
     "metadata": {},
     "output_type": "execute_result"
    }
   ],
   "source": [
    "years_list[2]"
   ]
  },
  {
   "cell_type": "markdown",
   "id": "fb0142ad",
   "metadata": {},
   "source": [
    "que3- In the years list, which year were you the oldest?"
   ]
  },
  {
   "cell_type": "markdown",
   "id": "42608281",
   "metadata": {},
   "source": [
    "ans3-"
   ]
  },
  {
   "cell_type": "code",
   "execution_count": 4,
   "id": "61d7f017",
   "metadata": {},
   "outputs": [
    {
     "data": {
      "text/plain": [
       "2000"
      ]
     },
     "execution_count": 4,
     "metadata": {},
     "output_type": "execute_result"
    }
   ],
   "source": [
    "years_list[-1]"
   ]
  },
  {
   "cell_type": "markdown",
   "id": "51622cb6",
   "metadata": {},
   "source": [
    "que4- Make a list called things with these three strings as elements: \"mozzarella\", \"cinderella\", \"salmonella\"."
   ]
  },
  {
   "cell_type": "markdown",
   "id": "e1414c19",
   "metadata": {},
   "source": [
    "ans4- "
   ]
  },
  {
   "cell_type": "code",
   "execution_count": 5,
   "id": "4f837a37",
   "metadata": {},
   "outputs": [],
   "source": [
    "things = [\"mozzarella\" , \"cinderella\" , \"salmonella\"]"
   ]
  },
  {
   "cell_type": "markdown",
   "id": "de69124b",
   "metadata": {},
   "source": [
    "que5- Capitalize the element in things that refers to a person and then print the list. Did it change the element in the list?"
   ]
  },
  {
   "cell_type": "markdown",
   "id": "4e916bfc",
   "metadata": {},
   "source": [
    "ans5- No it didn't change the element in the list."
   ]
  },
  {
   "cell_type": "code",
   "execution_count": 6,
   "id": "d26d44f7",
   "metadata": {},
   "outputs": [
    {
     "data": {
      "text/plain": [
       "'Cinderella'"
      ]
     },
     "execution_count": 6,
     "metadata": {},
     "output_type": "execute_result"
    }
   ],
   "source": [
    "things[1].capitalize()"
   ]
  },
  {
   "cell_type": "code",
   "execution_count": 7,
   "id": "857c1c7e",
   "metadata": {},
   "outputs": [
    {
     "data": {
      "text/plain": [
       "['mozzarella', 'cinderella', 'salmonella']"
      ]
     },
     "execution_count": 7,
     "metadata": {},
     "output_type": "execute_result"
    }
   ],
   "source": [
    "things"
   ]
  },
  {
   "cell_type": "markdown",
   "id": "0f4aeece",
   "metadata": {},
   "source": [
    "que6- Make a surprise list with the elements \"Groucho\", \"Chico\", and \"Harpo\"."
   ]
  },
  {
   "cell_type": "markdown",
   "id": "9034de65",
   "metadata": {},
   "source": [
    "ans6-"
   ]
  },
  {
   "cell_type": "code",
   "execution_count": 8,
   "id": "8a39dcf9",
   "metadata": {},
   "outputs": [],
   "source": [
    "surprise = [\"Groucho\" , \"Chico\" , \"Harpo\"]"
   ]
  },
  {
   "cell_type": "markdown",
   "id": "f5f0d6c6",
   "metadata": {},
   "source": [
    "que7- Lowercase the last element of the surprise list, reverse it, and then capitalize it."
   ]
  },
  {
   "cell_type": "markdown",
   "id": "d4519935",
   "metadata": {},
   "source": [
    "ans7-"
   ]
  },
  {
   "cell_type": "code",
   "execution_count": 9,
   "id": "41c84c77",
   "metadata": {},
   "outputs": [
    {
     "data": {
      "text/plain": [
       "'Oprah'"
      ]
     },
     "execution_count": 9,
     "metadata": {},
     "output_type": "execute_result"
    }
   ],
   "source": [
    "surprise[-1] = surprise[-1].lower()\n",
    "surprise[-1] = surprise[-1][::-1]\n",
    "surprise[-1].capitalize()"
   ]
  },
  {
   "cell_type": "markdown",
   "id": "02dcc91d",
   "metadata": {},
   "source": [
    "que8- Make an English-to-French dictionary called e2f and print it. Here are your starter words: dog is chien, cat is chat, and walrus is morse."
   ]
  },
  {
   "cell_type": "markdown",
   "id": "9898879e",
   "metadata": {},
   "source": [
    "ans8-"
   ]
  },
  {
   "cell_type": "code",
   "execution_count": 12,
   "id": "0803d02b",
   "metadata": {},
   "outputs": [
    {
     "name": "stdout",
     "output_type": "stream",
     "text": [
      "{'dog': 'chien', 'cat': 'chat', 'walrus': 'morse'}\n"
     ]
    }
   ],
   "source": [
    "e2f = {\"dog\":\"chien\" , \"cat\":\"chat\" , \"walrus\":\"morse\"}\n",
    "print(e2f)"
   ]
  },
  {
   "cell_type": "markdown",
   "id": "5f5361fb",
   "metadata": {},
   "source": [
    "que9- Write the French word for walrus in your three-word dictionary e2f."
   ]
  },
  {
   "cell_type": "markdown",
   "id": "fad20f4e",
   "metadata": {},
   "source": [
    "ans9-"
   ]
  },
  {
   "cell_type": "code",
   "execution_count": 13,
   "id": "9f6fe7b5",
   "metadata": {},
   "outputs": [
    {
     "data": {
      "text/plain": [
       "'morse'"
      ]
     },
     "execution_count": 13,
     "metadata": {},
     "output_type": "execute_result"
    }
   ],
   "source": [
    "e2f[\"walrus\"]"
   ]
  },
  {
   "cell_type": "markdown",
   "id": "e5a98353",
   "metadata": {},
   "source": [
    "que10- Make a French-to-English dictionary called f2e from e2f. Use the items method."
   ]
  },
  {
   "cell_type": "markdown",
   "id": "da838eb3",
   "metadata": {},
   "source": [
    "ans10-"
   ]
  },
  {
   "cell_type": "code",
   "execution_count": 14,
   "id": "548f3830",
   "metadata": {},
   "outputs": [
    {
     "data": {
      "text/plain": [
       "{'chien': 'dog', 'chat': 'cat', 'morse': 'walrus'}"
      ]
     },
     "execution_count": 14,
     "metadata": {},
     "output_type": "execute_result"
    }
   ],
   "source": [
    "f2e = dict((key,value) for value,key in e2f.items())\n",
    "f2e"
   ]
  },
  {
   "cell_type": "markdown",
   "id": "2b9f9386",
   "metadata": {},
   "source": [
    "que11- Print the English version of the French word chien using f2e."
   ]
  },
  {
   "cell_type": "markdown",
   "id": "355d6bc1",
   "metadata": {},
   "source": [
    "ans11-"
   ]
  },
  {
   "cell_type": "code",
   "execution_count": 15,
   "id": "4aee9c83",
   "metadata": {},
   "outputs": [
    {
     "data": {
      "text/plain": [
       "'dog'"
      ]
     },
     "execution_count": 15,
     "metadata": {},
     "output_type": "execute_result"
    }
   ],
   "source": [
    "f2e[\"chien\"]"
   ]
  },
  {
   "cell_type": "markdown",
   "id": "78078c53",
   "metadata": {},
   "source": [
    "que12- Make and print a set of English words from the keys in e2f."
   ]
  },
  {
   "cell_type": "markdown",
   "id": "4527fa4f",
   "metadata": {},
   "source": [
    "ans12-"
   ]
  },
  {
   "cell_type": "code",
   "execution_count": 17,
   "id": "a7ea768b",
   "metadata": {},
   "outputs": [
    {
     "data": {
      "text/plain": [
       "{'cat', 'dog', 'walrus'}"
      ]
     },
     "execution_count": 17,
     "metadata": {},
     "output_type": "execute_result"
    }
   ],
   "source": [
    "set(e2f.keys())"
   ]
  },
  {
   "cell_type": "markdown",
   "id": "da172cdb",
   "metadata": {},
   "source": [
    "que13- . Make a multilevel dictionary called life. Use these strings for the topmost keys: 'animals', 'plants', and 'other'. Make the 'animals' key refer to another dictionary with the keys 'cats', 'octopi', and 'emus'. Make the 'cats' key refer to a list of strings with the values 'Henri', 'Grumpy', and 'Lucy'. Make all the other keys refer to empty dictionaries."
   ]
  },
  {
   "cell_type": "markdown",
   "id": "59e8bc9c",
   "metadata": {},
   "source": [
    "ans13- "
   ]
  },
  {
   "cell_type": "code",
   "execution_count": 18,
   "id": "180f56ee",
   "metadata": {},
   "outputs": [
    {
     "data": {
      "text/plain": [
       "{'animals': {'cats': ['Henri', 'Grumpy', 'Lucy'], 'octopi': {}, 'emus': {}},\n",
       " 'plants': {},\n",
       " 'other': {}}"
      ]
     },
     "execution_count": 18,
     "metadata": {},
     "output_type": "execute_result"
    }
   ],
   "source": [
    "life = {\"animals\":{\"cats\":[\"Henri\" , \"Grumpy\" , \"Lucy\"] , \"octopi\":{} , \"emus\":{}} , \"plants\":{} , \"other\":{}}\n",
    "life"
   ]
  },
  {
   "cell_type": "markdown",
   "id": "5cfb2e15",
   "metadata": {},
   "source": [
    "que14- Print the top-level keys of life."
   ]
  },
  {
   "cell_type": "markdown",
   "id": "cc1cb14a",
   "metadata": {},
   "source": [
    "ans14-"
   ]
  },
  {
   "cell_type": "code",
   "execution_count": 19,
   "id": "cd35a032",
   "metadata": {},
   "outputs": [
    {
     "data": {
      "text/plain": [
       "dict_keys(['animals', 'plants', 'other'])"
      ]
     },
     "execution_count": 19,
     "metadata": {},
     "output_type": "execute_result"
    }
   ],
   "source": [
    "life.keys()"
   ]
  },
  {
   "cell_type": "markdown",
   "id": "e3dacd7b",
   "metadata": {},
   "source": [
    "que15- Print the keys for life['animals']."
   ]
  },
  {
   "cell_type": "markdown",
   "id": "b2af6258",
   "metadata": {},
   "source": [
    "ans15- "
   ]
  },
  {
   "cell_type": "code",
   "execution_count": 20,
   "id": "c064a69a",
   "metadata": {},
   "outputs": [
    {
     "data": {
      "text/plain": [
       "dict_keys(['cats', 'octopi', 'emus'])"
      ]
     },
     "execution_count": 20,
     "metadata": {},
     "output_type": "execute_result"
    }
   ],
   "source": [
    "life[\"animals\"].keys()"
   ]
  },
  {
   "cell_type": "markdown",
   "id": "f8d5f65c",
   "metadata": {},
   "source": [
    "que16- Print the values for life['animals']['cats']."
   ]
  },
  {
   "cell_type": "markdown",
   "id": "d63bf9b2",
   "metadata": {},
   "source": [
    "ans16-"
   ]
  },
  {
   "cell_type": "code",
   "execution_count": 23,
   "id": "5069bfff",
   "metadata": {},
   "outputs": [
    {
     "data": {
      "text/plain": [
       "['Henri', 'Grumpy', 'Lucy']"
      ]
     },
     "execution_count": 23,
     "metadata": {},
     "output_type": "execute_result"
    }
   ],
   "source": [
    "life[\"animals\"][\"cats\"]"
   ]
  }
 ],
 "metadata": {
  "kernelspec": {
   "display_name": "Python 3 (ipykernel)",
   "language": "python",
   "name": "python3"
  },
  "language_info": {
   "codemirror_mode": {
    "name": "ipython",
    "version": 3
   },
   "file_extension": ".py",
   "mimetype": "text/x-python",
   "name": "python",
   "nbconvert_exporter": "python",
   "pygments_lexer": "ipython3",
   "version": "3.9.7"
  }
 },
 "nbformat": 4,
 "nbformat_minor": 5
}
