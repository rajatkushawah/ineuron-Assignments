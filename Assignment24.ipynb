{
 "cells": [
  {
   "cell_type": "markdown",
   "id": "21c72cd7",
   "metadata": {},
   "source": [
    "que1- What is the relationship between def statements and lambda expressions ?"
   ]
  },
  {
   "cell_type": "markdown",
   "id": "7aeddfcb",
   "metadata": {},
   "source": [
    "ans1- the def statement always assigns the new function to the name in the header, instead of returning is as a result. lambda's body is a single expression, not a block of statements"
   ]
  },
  {
   "cell_type": "markdown",
   "id": "5473294f",
   "metadata": {},
   "source": [
    "que2- What is the benefit of lambda?"
   ]
  },
  {
   "cell_type": "markdown",
   "id": "45bfa8b3",
   "metadata": {},
   "source": [
    "ans2- The lambda keyword in Python provides a shortcut for declaring small anonymous functions. Lambda functions behave just like regular functions declared with the def keyword. They can be used whenever function objects are required."
   ]
  },
  {
   "cell_type": "markdown",
   "id": "1eb02f92",
   "metadata": {},
   "source": [
    "que3- Compare and contrast map, filter, and reduce."
   ]
  },
  {
   "cell_type": "markdown",
   "id": "52e81a60",
   "metadata": {},
   "source": [
    "ans3- Map operation takes a mapping function and a vector of data as arguments and returns a new vector."
   ]
  },
  {
   "cell_type": "markdown",
   "id": "7b1a8cf1",
   "metadata": {},
   "source": [
    "The filter function operates on a list and returns a subset of that list after applying the filtering rule."
   ]
  },
  {
   "cell_type": "markdown",
   "id": "7bb06e72",
   "metadata": {},
   "source": [
    "The reduce function will transform a given list into a single value by applying a given function continuously to all the elements."
   ]
  },
  {
   "cell_type": "markdown",
   "id": "5a908300",
   "metadata": {},
   "source": [
    "que4- What are function annotations, and how are they used?"
   ]
  },
  {
   "cell_type": "markdown",
   "id": "5695afc7",
   "metadata": {},
   "source": [
    "ans4- Function annotations are completely optional both for parameters and return value. Function annotations provide a way of associating various parts of a function with arbitrary python expressions at compile time."
   ]
  },
  {
   "cell_type": "markdown",
   "id": "6f9d9ae6",
   "metadata": {},
   "source": [
    "def foobar(a: expression, b: expression = 5):"
   ]
  },
  {
   "cell_type": "markdown",
   "id": "a90f5ac9",
   "metadata": {},
   "source": [
    "def foobar(args: expression, kwargs: expression):"
   ]
  },
  {
   "cell_type": "markdown",
   "id": "15b3320e",
   "metadata": {},
   "source": [
    "que5- What are recursive functions, and how are they used?"
   ]
  },
  {
   "cell_type": "markdown",
   "id": "202f30b7",
   "metadata": {},
   "source": [
    "ans5- A recursive function is a function defined in terms of itself via self-referential expressions. This means that the function will continue to call itself and repeat its behavior until some condition is met to return a result."
   ]
  },
  {
   "cell_type": "markdown",
   "id": "a4968678",
   "metadata": {},
   "source": [
    "que6- What are some general design guidelines for coding functions?"
   ]
  },
  {
   "cell_type": "markdown",
   "id": "090083cf",
   "metadata": {},
   "source": [
    "ans6- Use 4-space indentation and no tabs.\n",
    "\n",
    "Use docstrings.\n",
    "\n",
    "Wrap lines so that they don’t exceed 79 characters.\n",
    "\n",
    "Use of regular and updated comments are valuable to both the coders and users."
   ]
  },
  {
   "cell_type": "markdown",
   "id": "463e271b",
   "metadata": {},
   "source": [
    "que7- Name three or more ways that functions can communicate results to a caller."
   ]
  },
  {
   "cell_type": "markdown",
   "id": "c7c5ab5a",
   "metadata": {},
   "source": [
    "ans7- To call a function, we specify the function name with the round brackets.\n",
    "\n",
    "Use of return keyword inside function which returns the results to the caller.\n",
    "\n",
    "Use of print statement inside function which prints the results to the caller."
   ]
  }
 ],
 "metadata": {
  "kernelspec": {
   "display_name": "Python 3 (ipykernel)",
   "language": "python",
   "name": "python3"
  },
  "language_info": {
   "codemirror_mode": {
    "name": "ipython",
    "version": 3
   },
   "file_extension": ".py",
   "mimetype": "text/x-python",
   "name": "python",
   "nbconvert_exporter": "python",
   "pygments_lexer": "ipython3",
   "version": "3.9.7"
  }
 },
 "nbformat": 4,
 "nbformat_minor": 5
}
