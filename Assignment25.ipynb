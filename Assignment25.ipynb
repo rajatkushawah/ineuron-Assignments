{
 "cells": [
  {
   "cell_type": "markdown",
   "id": "29b338d3",
   "metadata": {},
   "source": [
    "que1- What is the difference between enclosing a list comprehension in square brackets and parentheses?"
   ]
  },
  {
   "cell_type": "markdown",
   "id": "2083c1b9",
   "metadata": {},
   "source": [
    "ans1- List Comprehension with square brackets produces list.\n",
    "\n",
    "List Comprehension with parentheses creates generators."
   ]
  },
  {
   "cell_type": "markdown",
   "id": "fb87db2b",
   "metadata": {},
   "source": [
    "que2- What is the relationship between generators and iterators?"
   ]
  },
  {
   "cell_type": "markdown",
   "id": "2d709499",
   "metadata": {},
   "source": [
    "ans2- Generators is another way of creating iterators in a simple way where it uses the keyword “yield” instead of returning it in a defined function.\n",
    "\n",
    "An iterator is an object which contains a countable number of values and it is used to iterate over iterable objects like list, tuples etc."
   ]
  },
  {
   "cell_type": "markdown",
   "id": "8bdb74ad",
   "metadata": {},
   "source": [
    "que3- What are the signs that a function is a generator function?"
   ]
  },
  {
   "cell_type": "markdown",
   "id": "96ff1d06",
   "metadata": {},
   "source": [
    "ans3- In a generator function, a yield statement is used rather than a return statement."
   ]
  },
  {
   "cell_type": "markdown",
   "id": "9f7ba4e1",
   "metadata": {},
   "source": [
    "que4- What is the purpose of a yield statement?"
   ]
  },
  {
   "cell_type": "markdown",
   "id": "93b47a24",
   "metadata": {},
   "source": [
    "ans4- A yield statement looks much like a return statement, except that instead of stopping execution of the function and\n",
    "returning, yield instead provides a value to the code looping over the generator and pauses execution of the generator function"
   ]
  },
  {
   "cell_type": "markdown",
   "id": "b9efd05b",
   "metadata": {},
   "source": [
    "que5- What is the relationship between map calls and list comprehensions? Make a comparison and contrast between the two."
   ]
  },
  {
   "cell_type": "markdown",
   "id": "50b17f5c",
   "metadata": {},
   "source": [
    "ans5- List comprehension is more concise and easier to read as compared to map.\n",
    "\n",
    "List comprehension allows filtering. In map, we have no such facility. For example, to print all even numbers in range of 100, we can write [n for n in range(100) if n%2 == 0]. There is no alternate for it in map.\n",
    "\n",
    "List comprehension are used when a list of results is required as map only returns a map object and does not return any list.\n",
    "\n",
    "List comprehension is faster than map when we need to evaluate expressions that are too long or complicated to express.\n",
    "\n",
    "Map is faster in case of calling an already defined function (as no lambda is required)."
   ]
  }
 ],
 "metadata": {
  "kernelspec": {
   "display_name": "Python 3 (ipykernel)",
   "language": "python",
   "name": "python3"
  },
  "language_info": {
   "codemirror_mode": {
    "name": "ipython",
    "version": 3
   },
   "file_extension": ".py",
   "mimetype": "text/x-python",
   "name": "python",
   "nbconvert_exporter": "python",
   "pygments_lexer": "ipython3",
   "version": "3.9.7"
  }
 },
 "nbformat": 4,
 "nbformat_minor": 5
}
