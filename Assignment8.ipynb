{
 "cells": [
  {
   "cell_type": "markdown",
   "id": "25bedfec",
   "metadata": {},
   "source": [
    "que1- Is the Python Standard Library included with PyInputPlus?"
   ]
  },
  {
   "cell_type": "markdown",
   "id": "dd24ee3d",
   "metadata": {},
   "source": [
    "ans1- PyInputPlus is not a part of the Python Standard Library, we must install it separately."
   ]
  },
  {
   "cell_type": "markdown",
   "id": "d6efb1db",
   "metadata": {},
   "source": [
    "que2- Why is PyInputPlus commonly imported with import pyinputplus as pypi?"
   ]
  },
  {
   "cell_type": "markdown",
   "id": "fc405978",
   "metadata": {},
   "source": [
    "ans2- The 'as pypi' code in the import statement saves us from typing pyinputplus each time we want to call a PyInputPlus function."
   ]
  },
  {
   "cell_type": "markdown",
   "id": "2c9c1a6d",
   "metadata": {},
   "source": [
    "que3- How do you distinguish between inputInt() and inputFloat()?"
   ]
  },
  {
   "cell_type": "markdown",
   "id": "0d4d0a18",
   "metadata": {},
   "source": [
    "ans3- The difference is in the data-type when you use the inputInt() the program expects an integer value as input but in inputFloat() it expects a float."
   ]
  },
  {
   "cell_type": "markdown",
   "id": "3c62017b",
   "metadata": {},
   "source": [
    "que4- Using PyInputPlus, how do you ensure that the user enters a whole number between 0 and 99?"
   ]
  },
  {
   "cell_type": "markdown",
   "id": "7396daa7",
   "metadata": {},
   "source": [
    "ans4- By using pyip.inputint(min=0, max=99)"
   ]
  },
  {
   "cell_type": "markdown",
   "id": "12a4d31d",
   "metadata": {},
   "source": [
    "que5- What is transferred to the keyword arguments allowRegexes and blockRegexes?"
   ]
  },
  {
   "cell_type": "markdown",
   "id": "2ab6c07c",
   "metadata": {},
   "source": [
    "ans5- The allowRegexes and blockRegexes keyword arguments take a list of regular expression strings to determine what the PyInputPlus function will accept or reject as valid input."
   ]
  },
  {
   "cell_type": "markdown",
   "id": "94c49afc",
   "metadata": {},
   "source": [
    "que6- If a blank input is entered three times, what does inputStr(limit=3) do?"
   ]
  },
  {
   "cell_type": "markdown",
   "id": "0c784885",
   "metadata": {},
   "source": [
    "ans6- The function will raise RetryLimitException."
   ]
  },
  {
   "cell_type": "markdown",
   "id": "1f9f6445",
   "metadata": {},
   "source": [
    "que7- If blank input is entered three times, what does inputStr(limit=3, default='hello') do?"
   ]
  },
  {
   "cell_type": "markdown",
   "id": "7ca7281b",
   "metadata": {},
   "source": [
    "ans7- The function returns the default value instead of raising an exception."
   ]
  }
 ],
 "metadata": {
  "kernelspec": {
   "display_name": "Python 3 (ipykernel)",
   "language": "python",
   "name": "python3"
  },
  "language_info": {
   "codemirror_mode": {
    "name": "ipython",
    "version": 3
   },
   "file_extension": ".py",
   "mimetype": "text/x-python",
   "name": "python",
   "nbconvert_exporter": "python",
   "pygments_lexer": "ipython3",
   "version": "3.9.7"
  }
 },
 "nbformat": 4,
 "nbformat_minor": 5
}
