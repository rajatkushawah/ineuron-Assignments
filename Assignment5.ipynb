{
 "cells": [
  {
   "cell_type": "markdown",
   "id": "6fc289b2",
   "metadata": {},
   "source": [
    "que1- What does an empty dictionary's code look like?"
   ]
  },
  {
   "cell_type": "markdown",
   "id": "cd702c1b",
   "metadata": {},
   "source": [
    "ans1- Empty dictionary's code looks like two curly brackets {}. What does an empty dictionary's code look like?"
   ]
  },
  {
   "cell_type": "markdown",
   "id": "7e497def",
   "metadata": {},
   "source": [
    "que2- What is the value of a dictionary value with the key 'foo' and the value 42?"
   ]
  },
  {
   "cell_type": "markdown",
   "id": "c4dfd96a",
   "metadata": {},
   "source": [
    "ans2-"
   ]
  },
  {
   "cell_type": "code",
   "execution_count": 1,
   "id": "c8088472",
   "metadata": {},
   "outputs": [],
   "source": [
    "dic = {\"foo\" : 42}"
   ]
  },
  {
   "cell_type": "markdown",
   "id": "0289df74",
   "metadata": {},
   "source": [
    "que3- What is the most significant distinction between a dictionary and a list?"
   ]
  },
  {
   "cell_type": "markdown",
   "id": "bf0d3e93",
   "metadata": {},
   "source": [
    "ans3- The items stored in the dictionary are unordered, while the items stored in the list are ordered."
   ]
  },
  {
   "cell_type": "markdown",
   "id": "526bbf42",
   "metadata": {},
   "source": [
    "que4- What happens if you try to access spam['foo'] if spam is {'bar': 100}?"
   ]
  },
  {
   "cell_type": "markdown",
   "id": "8ef26060",
   "metadata": {},
   "source": [
    "ans4- You will get a 'KeyError' error."
   ]
  },
  {
   "cell_type": "code",
   "execution_count": 2,
   "id": "af09caf1",
   "metadata": {},
   "outputs": [
    {
     "ename": "KeyError",
     "evalue": "'foo'",
     "output_type": "error",
     "traceback": [
      "\u001b[1;31m---------------------------------------------------------------------------\u001b[0m",
      "\u001b[1;31mKeyError\u001b[0m                                  Traceback (most recent call last)",
      "\u001b[1;32m~\\AppData\\Local\\Temp/ipykernel_8568/4026577702.py\u001b[0m in \u001b[0;36m<module>\u001b[1;34m\u001b[0m\n\u001b[0;32m      1\u001b[0m \u001b[0mspam\u001b[0m \u001b[1;33m=\u001b[0m \u001b[1;33m{\u001b[0m\u001b[1;34m'bar'\u001b[0m\u001b[1;33m:\u001b[0m\u001b[1;36m100\u001b[0m\u001b[1;33m}\u001b[0m\u001b[1;33m\u001b[0m\u001b[1;33m\u001b[0m\u001b[0m\n\u001b[1;32m----> 2\u001b[1;33m \u001b[0mspam\u001b[0m\u001b[1;33m[\u001b[0m\u001b[1;34m'foo'\u001b[0m\u001b[1;33m]\u001b[0m\u001b[1;33m\u001b[0m\u001b[1;33m\u001b[0m\u001b[0m\n\u001b[0m",
      "\u001b[1;31mKeyError\u001b[0m: 'foo'"
     ]
    }
   ],
   "source": [
    "spam = {'bar':100}\n",
    "spam['foo']"
   ]
  },
  {
   "cell_type": "markdown",
   "id": "cb770767",
   "metadata": {},
   "source": [
    "que5- If a dictionary is stored in spam, what is the difference between the expressions 'cat' in spam and 'cat' in      spam.keys()?"
   ]
  },
  {
   "cell_type": "markdown",
   "id": "2b6d95b8",
   "metadata": {},
   "source": [
    "ans5- There is no difference. The 'in' operator checks whether a value exists as a key in the dictionary."
   ]
  },
  {
   "cell_type": "markdown",
   "id": "98e69488",
   "metadata": {},
   "source": [
    "que6- If a dictionary is stored in spam, what is the difference between the expressions 'cat' in spam and 'cat' in spam.values()?"
   ]
  },
  {
   "cell_type": "markdown",
   "id": "7f911143",
   "metadata": {},
   "source": [
    "ans6- cat' in spam checks whether there is a 'cat' key in the dictionary, while 'cat' in spam.values() checks whether there is a value 'cat' for one of the keys in spam."
   ]
  },
  {
   "cell_type": "markdown",
   "id": "f7ee0bd7",
   "metadata": {},
   "source": [
    "que7- What is a shortcut for the following code?\n",
    "\n",
    "         if 'color' not in spam:\n",
    "    \n",
    "         spam['color'] = 'black'\n"
   ]
  },
  {
   "cell_type": "markdown",
   "id": "e0cb29f6",
   "metadata": {},
   "source": [
    "ans7- spam.setdefault('color', 'black')"
   ]
  },
  {
   "cell_type": "markdown",
   "id": "06f7e822",
   "metadata": {},
   "source": [
    "que8- How do you \"pretty print\" dictionary values using which module and function?"
   ]
  },
  {
   "cell_type": "markdown",
   "id": "12282371",
   "metadata": {},
   "source": [
    "ans8- the module used is the 'pprint' module and within the module function called 'pprint'.\n",
    "\n",
    "       pprint.pprint()"
   ]
  }
 ],
 "metadata": {
  "kernelspec": {
   "display_name": "Python 3 (ipykernel)",
   "language": "python",
   "name": "python3"
  },
  "language_info": {
   "codemirror_mode": {
    "name": "ipython",
    "version": 3
   },
   "file_extension": ".py",
   "mimetype": "text/x-python",
   "name": "python",
   "nbconvert_exporter": "python",
   "pygments_lexer": "ipython3",
   "version": "3.9.7"
  }
 },
 "nbformat": 4,
 "nbformat_minor": 5
}
