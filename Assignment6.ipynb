{
 "cells": [
  {
   "cell_type": "markdown",
   "id": "bce153e7",
   "metadata": {},
   "source": [
    "que1- What are escape characters, and how do you use them?"
   ]
  },
  {
   "cell_type": "markdown",
   "id": "5f47585c",
   "metadata": {},
   "source": [
    "ans1- Escape characters are represent characters in string values that would otherwise be difficult or impossible to type into code. The escape character allows you to use double quotes when you normally would not be allowed."
   ]
  },
  {
   "cell_type": "code",
   "execution_count": 1,
   "id": "5b05cf21",
   "metadata": {},
   "outputs": [
    {
     "name": "stdout",
     "output_type": "stream",
     "text": [
      "sudhanshu sir teach in \"inuron\".\n"
     ]
    }
   ],
   "source": [
    "example = \"sudhanshu sir teach in \\\"inuron\\\".\"\n",
    "print(example)"
   ]
  },
  {
   "cell_type": "markdown",
   "id": "63872037",
   "metadata": {},
   "source": [
    "que2- What do the escape characters n and t stand for?"
   ]
  },
  {
   "cell_type": "markdown",
   "id": "1155c1d4",
   "metadata": {},
   "source": [
    "ans2- The escape character \\n is stands for a newline and \\t for a tab."
   ]
  },
  {
   "cell_type": "markdown",
   "id": "a45c6f80",
   "metadata": {},
   "source": [
    "que3- What is the way to include backslash characters in a string?"
   ]
  },
  {
   "cell_type": "markdown",
   "id": "4b59c80d",
   "metadata": {},
   "source": [
    "ans3- The \\ escape character will represent a backslash character."
   ]
  },
  {
   "cell_type": "markdown",
   "id": "048c22c8",
   "metadata": {},
   "source": [
    "que4- The string \"Howl's Moving Castle\" is a correct value. Why isn't the single quote character in the word Howl's not escaped a problem?"
   ]
  },
  {
   "cell_type": "markdown",
   "id": "b29bca40",
   "metadata": {},
   "source": [
    "ans4- The single quote in Howl's is fine because you've used double quotes to mark the beginning and end of the string."
   ]
  },
  {
   "cell_type": "markdown",
   "id": "5b48bca4",
   "metadata": {},
   "source": [
    "que5- How do you write a string of newlines if you don't want to use the n character?"
   ]
  },
  {
   "cell_type": "markdown",
   "id": "1970eecc",
   "metadata": {},
   "source": [
    "ans5- Multiline strings allow us to use newlines in strings."
   ]
  },
  {
   "cell_type": "markdown",
   "id": "b72a77f4",
   "metadata": {},
   "source": [
    "que6- What are the values of the given expressions?"
   ]
  },
  {
   "cell_type": "markdown",
   "id": "51e1b4c7",
   "metadata": {},
   "source": [
    "'Hello, world!'[1]"
   ]
  },
  {
   "cell_type": "markdown",
   "id": "2c72bfd4",
   "metadata": {},
   "source": [
    "'Hello, world!'[0:5]"
   ]
  },
  {
   "cell_type": "markdown",
   "id": "8e4757c9",
   "metadata": {},
   "source": [
    "'Hello, world!'[:5]"
   ]
  },
  {
   "cell_type": "markdown",
   "id": "3532ffe0",
   "metadata": {},
   "source": [
    "'Hello, world!'[3:]"
   ]
  },
  {
   "cell_type": "markdown",
   "id": "3203737f",
   "metadata": {},
   "source": [
    "ans6-"
   ]
  },
  {
   "cell_type": "code",
   "execution_count": 4,
   "id": "42e42a4b",
   "metadata": {},
   "outputs": [
    {
     "data": {
      "text/plain": [
       "'e'"
      ]
     },
     "execution_count": 4,
     "metadata": {},
     "output_type": "execute_result"
    }
   ],
   "source": [
    "'Hello, world!'[1]"
   ]
  },
  {
   "cell_type": "code",
   "execution_count": 5,
   "id": "b4debf1b",
   "metadata": {},
   "outputs": [
    {
     "data": {
      "text/plain": [
       "'Hello'"
      ]
     },
     "execution_count": 5,
     "metadata": {},
     "output_type": "execute_result"
    }
   ],
   "source": [
    "'Hello, world!'[0:5]"
   ]
  },
  {
   "cell_type": "code",
   "execution_count": 6,
   "id": "51cc5101",
   "metadata": {},
   "outputs": [
    {
     "data": {
      "text/plain": [
       "'Hello'"
      ]
     },
     "execution_count": 6,
     "metadata": {},
     "output_type": "execute_result"
    }
   ],
   "source": [
    "'Hello, world!'[:5]"
   ]
  },
  {
   "cell_type": "code",
   "execution_count": 7,
   "id": "298609ba",
   "metadata": {},
   "outputs": [
    {
     "data": {
      "text/plain": [
       "'lo, world!'"
      ]
     },
     "execution_count": 7,
     "metadata": {},
     "output_type": "execute_result"
    }
   ],
   "source": [
    "'Hello, world!'[3:]"
   ]
  },
  {
   "cell_type": "markdown",
   "id": "88e99587",
   "metadata": {},
   "source": [
    "que7- What are the values of the following expressions?"
   ]
  },
  {
   "cell_type": "markdown",
   "id": "8160d958",
   "metadata": {},
   "source": [
    "'Hello'.upper()"
   ]
  },
  {
   "cell_type": "markdown",
   "id": "adc9cfb7",
   "metadata": {},
   "source": [
    "'Hello'.upper().isupper()"
   ]
  },
  {
   "cell_type": "markdown",
   "id": "80e68b6a",
   "metadata": {},
   "source": [
    "'Hello'.upper().lower()"
   ]
  },
  {
   "cell_type": "markdown",
   "id": "89aa4dc2",
   "metadata": {},
   "source": [
    "ans7-"
   ]
  },
  {
   "cell_type": "code",
   "execution_count": 9,
   "id": "167e977c",
   "metadata": {},
   "outputs": [
    {
     "data": {
      "text/plain": [
       "'HELLO'"
      ]
     },
     "execution_count": 9,
     "metadata": {},
     "output_type": "execute_result"
    }
   ],
   "source": [
    "'Hello'.upper()"
   ]
  },
  {
   "cell_type": "code",
   "execution_count": 10,
   "id": "fc1fb166",
   "metadata": {},
   "outputs": [
    {
     "data": {
      "text/plain": [
       "True"
      ]
     },
     "execution_count": 10,
     "metadata": {},
     "output_type": "execute_result"
    }
   ],
   "source": [
    "'Hello'.upper().isupper()"
   ]
  },
  {
   "cell_type": "code",
   "execution_count": 11,
   "id": "3d2709ee",
   "metadata": {},
   "outputs": [
    {
     "data": {
      "text/plain": [
       "'hello'"
      ]
     },
     "execution_count": 11,
     "metadata": {},
     "output_type": "execute_result"
    }
   ],
   "source": [
    "'Hello'.upper().lower()"
   ]
  },
  {
   "cell_type": "markdown",
   "id": "79ab5bda",
   "metadata": {},
   "source": [
    "que8- What are the values of the following expressions?\n",
    "\n"
   ]
  },
  {
   "cell_type": "markdown",
   "id": "59a08fbb",
   "metadata": {},
   "source": [
    "'Remember, remember, the fifth of July.'.split()"
   ]
  },
  {
   "cell_type": "markdown",
   "id": "aaab51db",
   "metadata": {},
   "source": [
    "'-'.join('There can only one.'.split())"
   ]
  },
  {
   "cell_type": "markdown",
   "id": "c2787ee3",
   "metadata": {},
   "source": [
    "ans8-"
   ]
  },
  {
   "cell_type": "code",
   "execution_count": 12,
   "id": "a2fb337c",
   "metadata": {},
   "outputs": [
    {
     "data": {
      "text/plain": [
       "['Remember,', 'remember,', 'the', 'fifth', 'of', 'July.']"
      ]
     },
     "execution_count": 12,
     "metadata": {},
     "output_type": "execute_result"
    }
   ],
   "source": [
    "'Remember, remember, the fifth of July.'.split()"
   ]
  },
  {
   "cell_type": "code",
   "execution_count": 13,
   "id": "5957a230",
   "metadata": {},
   "outputs": [
    {
     "data": {
      "text/plain": [
       "'There-can-only-one.'"
      ]
     },
     "execution_count": 13,
     "metadata": {},
     "output_type": "execute_result"
    }
   ],
   "source": [
    "'-'.join('There can only one.'.split())"
   ]
  },
  {
   "cell_type": "markdown",
   "id": "1f16c3b1",
   "metadata": {},
   "source": [
    "que9- What are the methods for right-justifying, left-justifying, and centering a string?"
   ]
  },
  {
   "cell_type": "markdown",
   "id": "b361cf09",
   "metadata": {},
   "source": [
    "ans9- The rjust(), ljust(), and center() string methods respectively."
   ]
  },
  {
   "cell_type": "markdown",
   "id": "cd6d1470",
   "metadata": {},
   "source": [
    "que10- What is the best way to remove whitespace characters from the start or end?"
   ]
  },
  {
   "cell_type": "markdown",
   "id": "cc1bb11c",
   "metadata": {},
   "source": [
    "ans10- The lstrip() and rstrip() methods remove whitespace from the left and right ends of a string respectively."
   ]
  }
 ],
 "metadata": {
  "kernelspec": {
   "display_name": "Python 3 (ipykernel)",
   "language": "python",
   "name": "python3"
  },
  "language_info": {
   "codemirror_mode": {
    "name": "ipython",
    "version": 3
   },
   "file_extension": ".py",
   "mimetype": "text/x-python",
   "name": "python",
   "nbconvert_exporter": "python",
   "pygments_lexer": "ipython3",
   "version": "3.9.7"
  }
 },
 "nbformat": 4,
 "nbformat_minor": 5
}
