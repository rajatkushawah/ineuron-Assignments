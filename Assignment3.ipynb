{
 "cells": [
  {
   "cell_type": "markdown",
   "id": "c166a166",
   "metadata": {},
   "source": [
    "que1- Why are functions advantageous to have in your programs?"
   ]
  },
  {
   "cell_type": "markdown",
   "id": "abfbdb85",
   "metadata": {},
   "source": [
    "ans- Functions reduce the need for duplicate code. This makes programs shorter, easier to read, and easier to update."
   ]
  },
  {
   "cell_type": "markdown",
   "id": "311e68bf",
   "metadata": {},
   "source": [
    "que2- When does the code in a function run: when it's specified or when it's called?"
   ]
  },
  {
   "cell_type": "markdown",
   "id": "79e361e3",
   "metadata": {},
   "source": [
    "ans- The code in a function runs when the function is called."
   ]
  },
  {
   "cell_type": "markdown",
   "id": "9e5499c7",
   "metadata": {},
   "source": [
    "que3- What statement creates a function?"
   ]
  },
  {
   "cell_type": "markdown",
   "id": "31615840",
   "metadata": {},
   "source": [
    "ans- The def() statement creates a function."
   ]
  },
  {
   "cell_type": "markdown",
   "id": "798ac557",
   "metadata": {},
   "source": [
    "que4- What is the difference between a function and a function call?"
   ]
  },
  {
   "cell_type": "markdown",
   "id": "f84a5012",
   "metadata": {},
   "source": [
    "ans- A function is a block of code that does a particular operation and returns a result. A function call is the code used to pass control to a function."
   ]
  },
  {
   "cell_type": "markdown",
   "id": "7b2d7c4c",
   "metadata": {},
   "source": [
    "que5- How many global scopes are there in a Python program? How many local scopes?"
   ]
  },
  {
   "cell_type": "markdown",
   "id": "b343b390",
   "metadata": {},
   "source": [
    "ans- There is one global scope, and a local scope is created whenever a function is called."
   ]
  },
  {
   "cell_type": "markdown",
   "id": "56efe43d",
   "metadata": {},
   "source": [
    "que6- What happens to variables in a local scope when the function call returns?"
   ]
  },
  {
   "cell_type": "markdown",
   "id": "41562874",
   "metadata": {},
   "source": [
    "ans- When a function returns, the local scope is destroyed and all the variables in it are reset."
   ]
  },
  {
   "cell_type": "markdown",
   "id": "91b81738",
   "metadata": {},
   "source": [
    "que7- What is the concept of a return value? Is it possible to have a return value in an expression?"
   ]
  },
  {
   "cell_type": "markdown",
   "id": "0b68b528",
   "metadata": {},
   "source": [
    "ans- A return value is the value that a function call evaluates. a return value can be used as part of an expression."
   ]
  },
  {
   "cell_type": "markdown",
   "id": "4625af23",
   "metadata": {},
   "source": [
    "que8- If a function does not have a return statement, what is the return value of a call to that function?"
   ]
  },
  {
   "cell_type": "markdown",
   "id": "efab60ba",
   "metadata": {},
   "source": [
    "ans- if the function does not have a return statement then the return value is none."
   ]
  },
  {
   "cell_type": "markdown",
   "id": "637b299f",
   "metadata": {},
   "source": [
    "que9- How do you make a function variable refer to the global variable?"
   ]
  },
  {
   "cell_type": "markdown",
   "id": "6bc809cb",
   "metadata": {},
   "source": [
    "ans- The global statement will make a function variable refer to the global variable."
   ]
  },
  {
   "cell_type": "markdown",
   "id": "ba85f705",
   "metadata": {},
   "source": [
    "que10- What is the data type of None?"
   ]
  },
  {
   "cell_type": "markdown",
   "id": "b667a3e6",
   "metadata": {},
   "source": [
    "ans- NoneType"
   ]
  },
  {
   "cell_type": "markdown",
   "id": "01288f10",
   "metadata": {},
   "source": [
    "que11- What does the sentence import areallyourpetsnamederic do?"
   ]
  },
  {
   "cell_type": "markdown",
   "id": "4ad38273",
   "metadata": {},
   "source": [
    "ans- the import statement import the module name areallyourpetsnamederic."
   ]
  },
  {
   "cell_type": "markdown",
   "id": "be48b633",
   "metadata": {},
   "source": [
    "que12- If you had a bacon() feature in a spam module, what would you call it after importing spam?"
   ]
  },
  {
   "cell_type": "markdown",
   "id": "84c655f3",
   "metadata": {},
   "source": [
    "ans- spam.bacon()"
   ]
  },
  {
   "cell_type": "markdown",
   "id": "17bb49b9",
   "metadata": {},
   "source": [
    "que13- What can you do to save a programme from crashing if it encounters an error?"
   ]
  },
  {
   "cell_type": "markdown",
   "id": "01ef32ac",
   "metadata": {},
   "source": [
    "ans- put that line of code into a \"try\" clause."
   ]
  },
  {
   "cell_type": "markdown",
   "id": "77286a79",
   "metadata": {},
   "source": [
    "que14- What is the purpose of the try clause? What is the purpose of the except clause?"
   ]
  },
  {
   "cell_type": "markdown",
   "id": "e3243b94",
   "metadata": {},
   "source": [
    "ans- the code which could cause an error goes into a try clause and if error happens it goes into a except clause."
   ]
  }
 ],
 "metadata": {
  "kernelspec": {
   "display_name": "Python 3 (ipykernel)",
   "language": "python",
   "name": "python3"
  },
  "language_info": {
   "codemirror_mode": {
    "name": "ipython",
    "version": 3
   },
   "file_extension": ".py",
   "mimetype": "text/x-python",
   "name": "python",
   "nbconvert_exporter": "python",
   "pygments_lexer": "ipython3",
   "version": "3.9.7"
  }
 },
 "nbformat": 4,
 "nbformat_minor": 5
}
