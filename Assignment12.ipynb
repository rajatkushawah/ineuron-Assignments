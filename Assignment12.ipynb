{
 "cells": [
  {
   "cell_type": "markdown",
   "id": "7686b3c2",
   "metadata": {},
   "source": [
    "que1- In what modes should the PdfFileReader() and PdfFileWriter() File objects will be opened?"
   ]
  },
  {
   "cell_type": "markdown",
   "id": "9539f564",
   "metadata": {},
   "source": [
    "ans1- PdfFileReader() needs to be opened in read-binary mode by passing 'rb' as the second argument to open(). Likewise, the File object passed to PyPDF2. PdfFileWriter() needs to be opened in write-binary mode with 'wb'."
   ]
  },
  {
   "cell_type": "markdown",
   "id": "65ec9be1",
   "metadata": {},
   "source": [
    "que2- From a PdfFileReader object, how do you get a Page object for page 5?"
   ]
  },
  {
   "cell_type": "markdown",
   "id": "2062cfa9",
   "metadata": {},
   "source": [
    "ans2- Calling getPage(4) will return a page object for page 5, since page 0 is the first page."
   ]
  },
  {
   "cell_type": "markdown",
   "id": "ff081847",
   "metadata": {},
   "source": [
    "que3- What PdfFileReader variable stores the number of pages in the PDF document?"
   ]
  },
  {
   "cell_type": "markdown",
   "id": "91bc8a75",
   "metadata": {},
   "source": [
    "ans3- The total number of pages in the document is stored in the numPages variable of a PdfFileReader object."
   ]
  },
  {
   "cell_type": "markdown",
   "id": "2e2c7c4a",
   "metadata": {},
   "source": [
    "que4- If a PdfFileReader object’s PDF is encrypted with the password swordfish, what must you do before you can obtain Page objects from it?"
   ]
  },
  {
   "cell_type": "markdown",
   "id": "36c8b5bb",
   "metadata": {},
   "source": [
    "ans4- To read an encrypted PDF, call the decrypt() function and pass the password as a string, Call decrypt('swordfish')."
   ]
  },
  {
   "cell_type": "markdown",
   "id": "5f70997b",
   "metadata": {},
   "source": [
    "que5- What methods do you use to rotate a page?"
   ]
  },
  {
   "cell_type": "markdown",
   "id": "1c96eab1",
   "metadata": {},
   "source": [
    "ans5- The pages of a PDF can be rotated with the rotateClockwise() and rotateCounterClockwise() methods."
   ]
  },
  {
   "cell_type": "markdown",
   "id": "1daaa6e1",
   "metadata": {},
   "source": [
    "que6- What is the difference between a Run object and a Paragraph object?"
   ]
  },
  {
   "cell_type": "markdown",
   "id": "dbbb0105",
   "metadata": {},
   "source": [
    "ans6- A document contains multiple paragraphs. A paragraph begins on a new line and contains multiple runs. Runs are contiguous groups of charecters within a paragraph."
   ]
  },
  {
   "cell_type": "markdown",
   "id": "18a7dd37",
   "metadata": {},
   "source": [
    "que7- How do you obtain a list of Paragraph objects for a Document object that’s stored in a variable named doc?"
   ]
  },
  {
   "cell_type": "markdown",
   "id": "d395a045",
   "metadata": {},
   "source": [
    "ans7- len(doc.paragraphs)"
   ]
  },
  {
   "cell_type": "markdown",
   "id": "e47cdc45",
   "metadata": {},
   "source": [
    "que8- What type of object has bold, underline, italic, strike, and outline variables?"
   ]
  },
  {
   "cell_type": "markdown",
   "id": "b9c8fa32",
   "metadata": {},
   "source": [
    "ans8- Run Object has bold, underline, italic, strike, and outline variables."
   ]
  },
  {
   "cell_type": "markdown",
   "id": "317a223f",
   "metadata": {},
   "source": [
    "que9- What is the difference between False, True, and None for the bold variable?"
   ]
  },
  {
   "cell_type": "markdown",
   "id": "7ff35ac0",
   "metadata": {},
   "source": [
    "ans9- True always makes the run object bolded and False makes it always not bolded, no matter what the style's bold settings is. None will make the Run object just use the style's bold settings."
   ]
  },
  {
   "cell_type": "markdown",
   "id": "df1b2e0a",
   "metadata": {},
   "source": [
    "que10- How do you create a Document object for a new Word document?"
   ]
  },
  {
   "cell_type": "markdown",
   "id": "85dca7c0",
   "metadata": {},
   "source": [
    "ans10- mydoc = docx.Document()"
   ]
  },
  {
   "cell_type": "markdown",
   "id": "cb38e332",
   "metadata": {},
   "source": [
    "que11- How do you add a paragraph with the text 'Hello, there!' to a Document object stored in a variable named doc?"
   ]
  },
  {
   "cell_type": "markdown",
   "id": "9ecde861",
   "metadata": {},
   "source": [
    "ans11- doc.add_paragraph('Hello, there!')"
   ]
  },
  {
   "cell_type": "markdown",
   "id": "b734f77f",
   "metadata": {},
   "source": [
    "que12- What integers represent the levels of headings available in Word documents?"
   ]
  },
  {
   "cell_type": "markdown",
   "id": "0106d073",
   "metadata": {},
   "source": [
    "ans12- Integer from 0 to 4. The arguments to add_heading() are a string of the heading text and an integer from 0 to 4. The integer 0 makes the heading the Title style, which is used for the top of the document. Integers 1 to 4 are for various heading levels, with 1 being the main heading and 4 the lowest subheading"
   ]
  }
 ],
 "metadata": {
  "kernelspec": {
   "display_name": "Python 3 (ipykernel)",
   "language": "python",
   "name": "python3"
  },
  "language_info": {
   "codemirror_mode": {
    "name": "ipython",
    "version": 3
   },
   "file_extension": ".py",
   "mimetype": "text/x-python",
   "name": "python",
   "nbconvert_exporter": "python",
   "pygments_lexer": "ipython3",
   "version": "3.9.7"
  }
 },
 "nbformat": 4,
 "nbformat_minor": 5
}
