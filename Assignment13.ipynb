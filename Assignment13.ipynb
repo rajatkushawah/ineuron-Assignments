{
 "cells": [
  {
   "cell_type": "markdown",
   "id": "2a8f9020",
   "metadata": {},
   "source": [
    "que1- What advantages do Excel spreadsheets have over CSV spreadsheets?"
   ]
  },
  {
   "cell_type": "markdown",
   "id": "4b8a132a",
   "metadata": {},
   "source": [
    "ans1- In Excel, spreadsheets can have values of datatypes other than strings; cells can have different fonts, sizes, or color settings; cells can have varying widths and heights; adjecent cells can be merged; and we can embed images and charts."
   ]
  },
  {
   "cell_type": "markdown",
   "id": "963275c8",
   "metadata": {},
   "source": [
    "que2- What do you pass to csv.reader() and csv.writer() to create reader and writer objects?"
   ]
  },
  {
   "cell_type": "markdown",
   "id": "ca558903",
   "metadata": {},
   "source": [
    "ans2- We pass a file object, obtained from call to open()."
   ]
  },
  {
   "cell_type": "markdown",
   "id": "49804095",
   "metadata": {},
   "source": [
    "que3- What modes do File objects for reader and writer objects need to be opened in?"
   ]
  },
  {
   "cell_type": "markdown",
   "id": "fa271eeb",
   "metadata": {},
   "source": [
    "ans3- Modes for opening a file r - open a file in read mode. w - opens or create a text file in write mode."
   ]
  },
  {
   "cell_type": "markdown",
   "id": "109826e2",
   "metadata": {},
   "source": [
    "que4- What method takes a list argument and writes it to a CSV file?"
   ]
  },
  {
   "cell_type": "markdown",
   "id": "bf6f9dad",
   "metadata": {},
   "source": [
    "ans4- The writerow() method."
   ]
  },
  {
   "cell_type": "markdown",
   "id": "bf6c245b",
   "metadata": {},
   "source": [
    "que5- What do the keyword arguments delimiter and line terminator do?"
   ]
  },
  {
   "cell_type": "markdown",
   "id": "b8f3c261",
   "metadata": {},
   "source": [
    "ans5- The delimeter argument change the string used to separate cells in a row. The lineterminator argument changes the string used to separate rows."
   ]
  },
  {
   "cell_type": "markdown",
   "id": "c1195734",
   "metadata": {},
   "source": [
    "que6- What function takes a string of JSON data and returns a Python data structure?"
   ]
  },
  {
   "cell_type": "markdown",
   "id": "4c4de39d",
   "metadata": {},
   "source": [
    "ans6- json.loads()"
   ]
  },
  {
   "cell_type": "markdown",
   "id": "99668fd6",
   "metadata": {},
   "source": [
    "que7- What function takes a Python data structure and returns a string of JSON data?"
   ]
  },
  {
   "cell_type": "markdown",
   "id": "c975b293",
   "metadata": {},
   "source": [
    "ans7- json.dumps()"
   ]
  }
 ],
 "metadata": {
  "kernelspec": {
   "display_name": "Python 3 (ipykernel)",
   "language": "python",
   "name": "python3"
  },
  "language_info": {
   "codemirror_mode": {
    "name": "ipython",
    "version": 3
   },
   "file_extension": ".py",
   "mimetype": "text/x-python",
   "name": "python",
   "nbconvert_exporter": "python",
   "pygments_lexer": "ipython3",
   "version": "3.9.7"
  }
 },
 "nbformat": 4,
 "nbformat_minor": 5
}
