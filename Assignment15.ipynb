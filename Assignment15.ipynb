{
 "cells": [
  {
   "cell_type": "markdown",
   "id": "afb9fbaa",
   "metadata": {},
   "source": [
    "que1- How many seconds are in an hour? Use the interactive interpreter as a calculator and multiply the number of seconds in a minute (60) by the number of minutes in an hour (also 60)."
   ]
  },
  {
   "cell_type": "markdown",
   "id": "1f754e09",
   "metadata": {},
   "source": [
    "ans1-"
   ]
  },
  {
   "cell_type": "code",
   "execution_count": 2,
   "id": "ab6e2c60",
   "metadata": {},
   "outputs": [
    {
     "data": {
      "text/plain": [
       "3600"
      ]
     },
     "execution_count": 2,
     "metadata": {},
     "output_type": "execute_result"
    }
   ],
   "source": [
    "60*60"
   ]
  },
  {
   "cell_type": "markdown",
   "id": "22bea3ad",
   "metadata": {},
   "source": [
    "que2- Assign the result from the previous task (seconds in an hour) to a variable called seconds_per_hour."
   ]
  },
  {
   "cell_type": "markdown",
   "id": "6adcde56",
   "metadata": {},
   "source": [
    "ans2-"
   ]
  },
  {
   "cell_type": "code",
   "execution_count": 4,
   "id": "e124a122",
   "metadata": {},
   "outputs": [],
   "source": [
    "seconds_per_hour = 3600"
   ]
  },
  {
   "cell_type": "markdown",
   "id": "07c8c31e",
   "metadata": {},
   "source": [
    "que3- How many seconds do you think there are in a day? Make use of the variables seconds per hour and minutes per hour."
   ]
  },
  {
   "cell_type": "markdown",
   "id": "ecc88244",
   "metadata": {},
   "source": [
    "ans3-"
   ]
  },
  {
   "cell_type": "code",
   "execution_count": 5,
   "id": "e6318905",
   "metadata": {},
   "outputs": [
    {
     "data": {
      "text/plain": [
       "86400"
      ]
     },
     "execution_count": 5,
     "metadata": {},
     "output_type": "execute_result"
    }
   ],
   "source": [
    "seconds_per_hour*24"
   ]
  },
  {
   "cell_type": "markdown",
   "id": "14587adc",
   "metadata": {},
   "source": [
    "que4- Calculate seconds per day again, but this time save the result in a variable called seconds_per_day."
   ]
  },
  {
   "cell_type": "markdown",
   "id": "bd88f30b",
   "metadata": {},
   "source": [
    "ans4-"
   ]
  },
  {
   "cell_type": "code",
   "execution_count": 6,
   "id": "0fcdcbaa",
   "metadata": {},
   "outputs": [
    {
     "data": {
      "text/plain": [
       "86400"
      ]
     },
     "execution_count": 6,
     "metadata": {},
     "output_type": "execute_result"
    }
   ],
   "source": [
    "seconds_per_day = seconds_per_hour*24\n",
    "seconds_per_day"
   ]
  },
  {
   "cell_type": "markdown",
   "id": "14584e2a",
   "metadata": {},
   "source": [
    "que5- Divide seconds_per_day by seconds_per_hour. Use floating-point (/) division."
   ]
  },
  {
   "cell_type": "markdown",
   "id": "d8539221",
   "metadata": {},
   "source": [
    "ans5-"
   ]
  },
  {
   "cell_type": "code",
   "execution_count": 7,
   "id": "b447a48f",
   "metadata": {},
   "outputs": [
    {
     "data": {
      "text/plain": [
       "24.0"
      ]
     },
     "execution_count": 7,
     "metadata": {},
     "output_type": "execute_result"
    }
   ],
   "source": [
    "seconds_per_day / seconds_per_hour"
   ]
  },
  {
   "cell_type": "markdown",
   "id": "bcb31277",
   "metadata": {},
   "source": [
    "que6- Divide seconds_per_day by seconds_per_hour, using integer (//) division. Did this number agree with the floating-point value from the previous question, aside from the final .0?"
   ]
  },
  {
   "cell_type": "markdown",
   "id": "4db26755",
   "metadata": {},
   "source": [
    "ans6-"
   ]
  },
  {
   "cell_type": "code",
   "execution_count": 8,
   "id": "849ac805",
   "metadata": {},
   "outputs": [
    {
     "data": {
      "text/plain": [
       "24"
      ]
     },
     "execution_count": 8,
     "metadata": {},
     "output_type": "execute_result"
    }
   ],
   "source": [
    "seconds_per_day // seconds_per_hour"
   ]
  },
  {
   "cell_type": "markdown",
   "id": "2d59e944",
   "metadata": {},
   "source": [
    "que7- Write a generator, genPrimes, that returns the sequence of prime numbers on successive calls to its next() method: 2, 3, 5, 7, 11, ..."
   ]
  },
  {
   "cell_type": "markdown",
   "id": "78fb360b",
   "metadata": {},
   "source": [
    "ans7-"
   ]
  },
  {
   "cell_type": "code",
   "execution_count": 10,
   "id": "f9dc0b46",
   "metadata": {},
   "outputs": [
    {
     "name": "stdout",
     "output_type": "stream",
     "text": [
      "2\n",
      "3\n",
      "5\n",
      "7\n",
      "11\n",
      "13\n",
      "17\n",
      "19\n",
      "23\n",
      "29\n",
      "31\n",
      "37\n",
      "41\n",
      "43\n",
      "47\n",
      "53\n",
      "59\n",
      "61\n",
      "67\n",
      "71\n"
     ]
    }
   ],
   "source": [
    "def genPrimes():\n",
    "    \n",
    "    primes = [ 2, 3, 5, 7, 11 ]\n",
    "    \n",
    "    def PrimeNum(n):\n",
    "        if n in primes:\n",
    "            return True\n",
    "        \n",
    "        for i in primes:\n",
    "            if n % i == 0:\n",
    "                return False\n",
    "                \n",
    "        primes.append(n)\n",
    "        return True\n",
    "    num = 1\n",
    "    while True:\n",
    "        num += 1\n",
    "        if PrimeNum(num):\n",
    "            next = num\n",
    "            yield next\n",
    "            num = next\n",
    "primeNumber = genPrimes()\n",
    "\n",
    "for i in range(20):\n",
    "    print(primeNumber.__next__())"
   ]
  }
 ],
 "metadata": {
  "kernelspec": {
   "display_name": "Python 3 (ipykernel)",
   "language": "python",
   "name": "python3"
  },
  "language_info": {
   "codemirror_mode": {
    "name": "ipython",
    "version": 3
   },
   "file_extension": ".py",
   "mimetype": "text/x-python",
   "name": "python",
   "nbconvert_exporter": "python",
   "pygments_lexer": "ipython3",
   "version": "3.9.7"
  }
 },
 "nbformat": 4,
 "nbformat_minor": 5
}
