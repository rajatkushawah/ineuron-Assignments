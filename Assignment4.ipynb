{
 "cells": [
  {
   "cell_type": "markdown",
   "id": "a9d6f3b5",
   "metadata": {},
   "source": [
    "que1- What exactly is []?"
   ]
  },
  {
   "cell_type": "markdown",
   "id": "07a8d785",
   "metadata": {},
   "source": [
    "ans- these are the bracket which used to represent a list value."
   ]
  },
  {
   "cell_type": "markdown",
   "id": "cbe7a41c",
   "metadata": {},
   "source": [
    "que2- In a list of values stored in a variable called spam, how would you assign the value 'hello' as the third value? (Assume [2, 4, 6, 8, 10] are in spam.)"
   ]
  },
  {
   "cell_type": "markdown",
   "id": "f8b2e727",
   "metadata": {},
   "source": [
    "ans- spam[2] = 'hello'"
   ]
  },
  {
   "cell_type": "markdown",
   "id": "17456eb4",
   "metadata": {},
   "source": [
    "Let's pretend the spam includes the list ['a', 'b', 'c', 'd'] for the next three queries.\n",
    "\n",
    "\n",
    "\n"
   ]
  },
  {
   "cell_type": "markdown",
   "id": "e8b37c6a",
   "metadata": {},
   "source": [
    "que3- What is the value of spam[int(int('3' * 2) / 11)]?"
   ]
  },
  {
   "cell_type": "markdown",
   "id": "da0f4a3f",
   "metadata": {},
   "source": [
    "ans3- spam[int(int('3' * 2) / 11)] = 'd'\n",
    "\n"
   ]
  },
  {
   "cell_type": "markdown",
   "id": "825619c5",
   "metadata": {},
   "source": [
    "que4- What is the value of spam[-1]?"
   ]
  },
  {
   "cell_type": "markdown",
   "id": "61cd347e",
   "metadata": {},
   "source": [
    "ans4- spam[-1] = 'd'"
   ]
  },
  {
   "cell_type": "markdown",
   "id": "0545e2cc",
   "metadata": {},
   "source": [
    "que5- What is the value of spam[:2]?"
   ]
  },
  {
   "cell_type": "markdown",
   "id": "bf1ed2a3",
   "metadata": {},
   "source": [
    "ans5- spam[:2] = ['a', 'b']"
   ]
  },
  {
   "cell_type": "markdown",
   "id": "7a74feb6",
   "metadata": {},
   "source": [
    "Let's pretend bacon has the list [3.14, 'cat', 11, 'cat', True] for the next three questions."
   ]
  },
  {
   "cell_type": "markdown",
   "id": "99f5caeb",
   "metadata": {},
   "source": [
    "que6- What is the value of bacon.index('cat')?"
   ]
  },
  {
   "cell_type": "markdown",
   "id": "9da7a00d",
   "metadata": {},
   "source": [
    "ans6- bacon.index('cat') = 1"
   ]
  },
  {
   "cell_type": "markdown",
   "id": "6af83d60",
   "metadata": {},
   "source": [
    "que7- How does bacon.append(99) change the look of the list value in bacon?"
   ]
  },
  {
   "cell_type": "markdown",
   "id": "eabe8ce5",
   "metadata": {},
   "source": [
    "ans7- bacon.append(99) = [3.14, 'cat', 11, 'cat', True, 99]"
   ]
  },
  {
   "cell_type": "markdown",
   "id": "74182433",
   "metadata": {},
   "source": [
    "que8- How does bacon.remove('cat') change the look of the list in bacon?"
   ]
  },
  {
   "cell_type": "markdown",
   "id": "683ff736",
   "metadata": {},
   "source": [
    "ans8- bacon.remove('cat') = [3.14, 11, 'cat', True]"
   ]
  },
  {
   "cell_type": "markdown",
   "id": "e331fb63",
   "metadata": {},
   "source": [
    "que9- What are the list concatenation and list replication operators?"
   ]
  },
  {
   "cell_type": "markdown",
   "id": "1978325b",
   "metadata": {},
   "source": [
    "ans- The operator for list concatenation is + and the operator for replication is *."
   ]
  },
  {
   "cell_type": "markdown",
   "id": "2de0bad2",
   "metadata": {},
   "source": [
    "que10- What is difference between the list methods append() and insert()?"
   ]
  },
  {
   "cell_type": "markdown",
   "id": "2bb30d49",
   "metadata": {},
   "source": [
    "ans- append() will add values only to the end of a list, insert() can add them anywhere in the list."
   ]
  },
  {
   "cell_type": "markdown",
   "id": "866ea461",
   "metadata": {},
   "source": [
    "que11- What are the two methods for removing items from a list?"
   ]
  },
  {
   "cell_type": "markdown",
   "id": "86f8d2d7",
   "metadata": {},
   "source": [
    "ans- 'del' statement and the 'remove()' list method are two ways to remove values from a list."
   ]
  },
  {
   "cell_type": "markdown",
   "id": "cb1ad110",
   "metadata": {},
   "source": [
    "que12- Describe how list values and string values are identical."
   ]
  },
  {
   "cell_type": "markdown",
   "id": "074d245d",
   "metadata": {},
   "source": [
    "ans- 1.both list and string values have indexes.\n",
    "2.both can be used in for loop.\n",
    "3.both can be concatinated and replicated."
   ]
  },
  {
   "cell_type": "markdown",
   "id": "3ba828e0",
   "metadata": {},
   "source": [
    "que13- What's the difference between tuples and lists?"
   ]
  },
  {
   "cell_type": "markdown",
   "id": "2b78ad73",
   "metadata": {},
   "source": [
    "ans- lists are written using [] and tuples are written using (). lists are mutable and tuples are immutable.\n"
   ]
  },
  {
   "cell_type": "markdown",
   "id": "7cb169bd",
   "metadata": {},
   "source": [
    "que14- How do you type a tuple value that only contains the integer 42?"
   ]
  },
  {
   "cell_type": "markdown",
   "id": "a267d767",
   "metadata": {},
   "source": [
    "ans- (42,)"
   ]
  },
  {
   "cell_type": "markdown",
   "id": "a9c85007",
   "metadata": {},
   "source": [
    "que15- How do you get a list value's tuple form? How do you get a tuple value's list form?"
   ]
  },
  {
   "cell_type": "markdown",
   "id": "4af3e918",
   "metadata": {},
   "source": [
    "ans- by using tuple() and list() functions, respectively."
   ]
  },
  {
   "cell_type": "markdown",
   "id": "209a5812",
   "metadata": {},
   "source": [
    "que16- Variables that \"contain\" list values are not necessarily lists themselves. Instead, what do they contain?"
   ]
  },
  {
   "cell_type": "markdown",
   "id": "a989618a",
   "metadata": {},
   "source": [
    "ans- They contain references to list values."
   ]
  },
  {
   "cell_type": "markdown",
   "id": "cc148ffc",
   "metadata": {},
   "source": [
    "que17- How do you distinguish between copy.copy() and copy.deepcopy()?"
   ]
  },
  {
   "cell_type": "markdown",
   "id": "67b9d2a0",
   "metadata": {},
   "source": [
    "ans- The copy.copy() function will do a shallow copy of a list, while the copy.deepcopy() will duplicate any lists inside the list."
   ]
  }
 ],
 "metadata": {
  "kernelspec": {
   "display_name": "Python 3 (ipykernel)",
   "language": "python",
   "name": "python3"
  },
  "language_info": {
   "codemirror_mode": {
    "name": "ipython",
    "version": 3
   },
   "file_extension": ".py",
   "mimetype": "text/x-python",
   "name": "python",
   "nbconvert_exporter": "python",
   "pygments_lexer": "ipython3",
   "version": "3.9.7"
  }
 },
 "nbformat": 4,
 "nbformat_minor": 5
}
