{
 "cells": [
  {
   "cell_type": "markdown",
   "id": "288b653d",
   "metadata": {},
   "source": [
    "que1- To what does a relative path refer?"
   ]
  },
  {
   "cell_type": "markdown",
   "id": "6d249ef3",
   "metadata": {},
   "source": [
    "ans1- Relative paths are relative to the current working directory."
   ]
  },
  {
   "cell_type": "markdown",
   "id": "64684d63",
   "metadata": {},
   "source": [
    "que2- What does an absolute path start with your operating system?"
   ]
  },
  {
   "cell_type": "markdown",
   "id": "222e2e6f",
   "metadata": {},
   "source": [
    "ans2- Absolute paths start with the root folder, such as / or C:. All the information required to locate the file or folder is available in the absolute path."
   ]
  },
  {
   "cell_type": "markdown",
   "id": "c345a1fd",
   "metadata": {},
   "source": [
    "que3- What do the functions os.getcwd() and os.chdir() do?"
   ]
  },
  {
   "cell_type": "markdown",
   "id": "7fbfcf8e",
   "metadata": {},
   "source": [
    "ans3- The os.getcwd() returns the current working directory and os.chdir() used to change the directory."
   ]
  },
  {
   "cell_type": "markdown",
   "id": "90d2c61a",
   "metadata": {},
   "source": [
    "que4- What are the . and .. folders?"
   ]
  },
  {
   "cell_type": "markdown",
   "id": "27d1188c",
   "metadata": {},
   "source": [
    "ans4- The . folder is the current folder and .. is the parent folder."
   ]
  },
  {
   "cell_type": "markdown",
   "id": "64608bfd",
   "metadata": {},
   "source": [
    "que5- In C:\\bacon\\eggs\\spam.txt, which part is the dir name, and which part is the base name?"
   ]
  },
  {
   "cell_type": "markdown",
   "id": "9f91e10c",
   "metadata": {},
   "source": [
    "ans5- C:\\bacon\\eggs is the dir name and spam.txt is the base name."
   ]
  },
  {
   "cell_type": "markdown",
   "id": "80a44fe3",
   "metadata": {},
   "source": [
    "que6- What are the three “mode” arguments that can be passed to the open() function?"
   ]
  },
  {
   "cell_type": "markdown",
   "id": "bf103373",
   "metadata": {},
   "source": [
    "ans6- The string 'r' for read mode, 'w' for write mode, and 'a' for append mode."
   ]
  },
  {
   "cell_type": "markdown",
   "id": "869974ae",
   "metadata": {},
   "source": [
    "que7- What happens if an existing file is opened in write mode"
   ]
  },
  {
   "cell_type": "markdown",
   "id": "7d1df836",
   "metadata": {},
   "source": [
    "ans7- An existing file opened in write mode is erased and completely overwritten."
   ]
  },
  {
   "cell_type": "markdown",
   "id": "033794b9",
   "metadata": {},
   "source": [
    "que8- How do you tell the difference between read() and readlines()?"
   ]
  },
  {
   "cell_type": "markdown",
   "id": "60ce27cd",
   "metadata": {},
   "source": [
    "ans8- The read() method returns the file's entire contents as a single string value. The readlines() method returns a list of strings, where each string is a line from the file's contents."
   ]
  },
  {
   "cell_type": "markdown",
   "id": "843e1335",
   "metadata": {},
   "source": [
    "que9- What data structure does a shelf value resemble?"
   ]
  },
  {
   "cell_type": "markdown",
   "id": "27537699",
   "metadata": {},
   "source": [
    "ans9- A shelf value resembles a dictionary value; it has keys and values, along with keys() and values() methods that work similarly to the dictionary methods of the same names."
   ]
  }
 ],
 "metadata": {
  "kernelspec": {
   "display_name": "Python 3 (ipykernel)",
   "language": "python",
   "name": "python3"
  },
  "language_info": {
   "codemirror_mode": {
    "name": "ipython",
    "version": 3
   },
   "file_extension": ".py",
   "mimetype": "text/x-python",
   "name": "python",
   "nbconvert_exporter": "python",
   "pygments_lexer": "ipython3",
   "version": "3.9.7"
  }
 },
 "nbformat": 4,
 "nbformat_minor": 5
}
