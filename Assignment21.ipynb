{
 "cells": [
  {
   "cell_type": "markdown",
   "id": "0b0b173f",
   "metadata": {},
   "source": [
    "que1- Add the current date to the text file today.txt as a string."
   ]
  },
  {
   "cell_type": "markdown",
   "id": "3135d77f",
   "metadata": {},
   "source": [
    "ans1-"
   ]
  },
  {
   "cell_type": "code",
   "execution_count": 1,
   "id": "34fb7ef1",
   "metadata": {},
   "outputs": [],
   "source": [
    "from datetime import date\n",
    "now = date.today()\n",
    "now_str = now.isoformat()\n",
    "with open('today.txt', 'wt') as output:\n",
    "    print(now_str, file=output)"
   ]
  },
  {
   "cell_type": "markdown",
   "id": "f7fbb72e",
   "metadata": {},
   "source": [
    "que2- Read the text file today.txt into the string today_string."
   ]
  },
  {
   "cell_type": "markdown",
   "id": "5ddddc33",
   "metadata": {},
   "source": [
    "ans2- "
   ]
  },
  {
   "cell_type": "code",
   "execution_count": 2,
   "id": "41d8747a",
   "metadata": {},
   "outputs": [
    {
     "data": {
      "text/plain": [
       "'2023-04-01\\n'"
      ]
     },
     "execution_count": 2,
     "metadata": {},
     "output_type": "execute_result"
    }
   ],
   "source": [
    "with open('today.txt', 'rt') as input:\n",
    "    today_string = input.read()\n",
    "today_string"
   ]
  },
  {
   "cell_type": "markdown",
   "id": "02c1d4f6",
   "metadata": {},
   "source": [
    "que3- Parse the date from today_string."
   ]
  },
  {
   "cell_type": "markdown",
   "id": "e78b4af9",
   "metadata": {},
   "source": [
    "ans3- "
   ]
  },
  {
   "cell_type": "code",
   "execution_count": 3,
   "id": "be40b027",
   "metadata": {},
   "outputs": [
    {
     "data": {
      "text/plain": [
       "datetime.datetime(2023, 4, 1, 0, 0)"
      ]
     },
     "execution_count": 3,
     "metadata": {},
     "output_type": "execute_result"
    }
   ],
   "source": [
    "from datetime import datetime\n",
    "N = '%Y-%m-%d\\n'\n",
    "datetime.strptime(today_string, N)"
   ]
  },
  {
   "cell_type": "markdown",
   "id": "f2bf5681",
   "metadata": {},
   "source": [
    "que4- List the files in your current directory."
   ]
  },
  {
   "cell_type": "markdown",
   "id": "3d5120fe",
   "metadata": {},
   "source": [
    "ans4- "
   ]
  },
  {
   "cell_type": "code",
   "execution_count": 4,
   "id": "c9cbb844",
   "metadata": {},
   "outputs": [
    {
     "data": {
      "text/plain": [
       "['.astropy',\n",
       " '.bash_history',\n",
       " '.bash_profile',\n",
       " '.conda',\n",
       " '.condarc',\n",
       " '.continuum',\n",
       " '.cufflinks',\n",
       " '.gitconfig',\n",
       " '.ipynb_checkpoints',\n",
       " '.ipython',\n",
       " '.jupyter',\n",
       " '.keras',\n",
       " '.matplotlib',\n",
       " '.ms-ad',\n",
       " '.opera',\n",
       " '.vscode',\n",
       " '19.3.1 mongoDB introduction.ipynb',\n",
       " '19.3.2 pyMongo.ipynb',\n",
       " '19.3.3 Atlas.ipynb',\n",
       " 'anaconda3',\n",
       " 'AppData',\n",
       " 'Application Data',\n",
       " 'Assignment1.ipynb',\n",
       " 'Assignment10.ipynb',\n",
       " 'Assignment11.ipynb',\n",
       " 'Assignment12.ipynb',\n",
       " 'Assignment13.ipynb',\n",
       " 'Assignment14.ipynb',\n",
       " 'Assignment15.ipynb',\n",
       " 'Assignment16.ipynb',\n",
       " 'Assignment17.ipynb',\n",
       " 'Assignment18.ipynb',\n",
       " 'Assignment19.ipynb',\n",
       " 'Assignment2.ipynb',\n",
       " 'Assignment20.ipynb',\n",
       " 'Assignment21.ipynb',\n",
       " 'Assignment3.ipynb',\n",
       " 'Assignment4.ipynb',\n",
       " 'Assignment5.ipynb',\n",
       " 'Assignment6.ipynb',\n",
       " 'Assignment7.ipynb',\n",
       " 'Assignment8.ipynb',\n",
       " 'Assignment9.ipynb',\n",
       " 'bank.csv',\n",
       " 'books.csv',\n",
       " 'books.db',\n",
       " 'bulkdata.log',\n",
       " 'car data.ipynb',\n",
       " 'car.data',\n",
       " 'carbon nano tube task.ipynb',\n",
       " 'carbon_nanotubes.csv',\n",
       " 'cassandra.ipynb',\n",
       " 'Contacts',\n",
       " 'contacts.csv',\n",
       " 'Cookies',\n",
       " 'cricket.csv',\n",
       " 'Customers.csv',\n",
       " 'data_description.txt',\n",
       " 'Data_Train.xlsx',\n",
       " 'Desktop',\n",
       " 'dictionary problem.ipynb',\n",
       " 'Documents',\n",
       " 'dog.png',\n",
       " 'dog1.gif',\n",
       " 'dont understand def 23 dec.ipynb',\n",
       " 'Downloads',\n",
       " 'EDA- Part 1.ipynb',\n",
       " 'Exception handling class 2 (1).ipynb',\n",
       " 'exception handling.ipynb',\n",
       " 'Favorites',\n",
       " 'Feature Engineering.ipynb',\n",
       " 'Flight pridiction class notebook.ipynb',\n",
       " 'for else loop , while loop.ipynb',\n",
       " 'for loops while loop.ipynb',\n",
       " 'Function and holiday task.ipynb',\n",
       " 'functions- def and lambda uses and methods.ipynb',\n",
       " 'generator , yield.ipynb',\n",
       " 'glass.data',\n",
       " 'Graph cls2.ipynb',\n",
       " 'GUI cls 1 , 2 , 3.ipynb',\n",
       " 'holiday task.ipynb',\n",
       " 'House pricing folder',\n",
       " 'Hypothesis_Testing.ipynb',\n",
       " 'if else , for loop.ipynb',\n",
       " 'if else elif practice.ipynb',\n",
       " 'image.jpg',\n",
       " 'ineuron.db',\n",
       " 'jobdb.db',\n",
       " 'json_res.csv',\n",
       " 'Links',\n",
       " 'Local Settings',\n",
       " 'logging (1).ipynb',\n",
       " 'LUSID Excel - Business Agility - Making Simple Changes Quickly & Easily.xlsx',\n",
       " 'LUSID Excel - Maintain a product in multiple currencies and share classes.xlsx',\n",
       " 'LUSID Excel - Manage Orders.xlsx',\n",
       " 'LUSID Excel - Manage your investment strategies.xlsx',\n",
       " 'LUSID Excel - Setting up your IBOR.xlsx',\n",
       " 'LUSID Excel - Setting up your market data.xlsx',\n",
       " 'machine_learning_project',\n",
       " 'module create.ipynb',\n",
       " 'mongodb.ipynb',\n",
       " 'Music',\n",
       " 'My Documents',\n",
       " 'mymodule',\n",
       " 'mymodule.py',\n",
       " 'mysql 1.ipynb',\n",
       " 'mysql 2.ipynb',\n",
       " 'NBA.csv',\n",
       " 'NetHood',\n",
       " 'NLP class 1.ipynb',\n",
       " 'NTUSER.DAT',\n",
       " 'ntuser.dat.LOG1',\n",
       " 'ntuser.dat.LOG2',\n",
       " 'NTUSER.DAT{09bee2b0-ae7d-11e3-80bb-90b11c267bd1}.TM.blf',\n",
       " 'NTUSER.DAT{09bee2b0-ae7d-11e3-80bb-90b11c267bd1}.TMContainer00000000000000000001.regtrans-ms',\n",
       " 'NTUSER.DAT{09bee2b0-ae7d-11e3-80bb-90b11c267bd1}.TMContainer00000000000000000002.regtrans-ms',\n",
       " 'ntuser.ini',\n",
       " 'numpy cls 2.ipynb',\n",
       " 'OneDrive',\n",
       " 'oops 2nd class.ipynb',\n",
       " 'oops.ipynb',\n",
       " 'pandas cls 2.ipynb',\n",
       " 'Pandas cls 3.ipynb',\n",
       " 'Pandas cls 4.ipynb',\n",
       " 'Pandas cls5 and numpy (numerical python).ipynb',\n",
       " 'pandas.ipynb',\n",
       " 'person.db',\n",
       " 'PH-Sales.csv',\n",
       " 'Pictures',\n",
       " 'Postman',\n",
       " 'PrintHood',\n",
       " 'Python basic (3).ipynb',\n",
       " 'Recent',\n",
       " 'Review scrapper.ipynb',\n",
       " 'sample_submission.csv',\n",
       " 'Saved Games',\n",
       " 'seaborn-data',\n",
       " 'Searches',\n",
       " 'SendTo',\n",
       " 'services.csv',\n",
       " 'SMSSpamCollection',\n",
       " 'sqllite,map,filter,reduce,zip.ipynb',\n",
       " 'Start Menu',\n",
       " 'stats 2.ipynb',\n",
       " 'stats1.ipynb',\n",
       " 'taxonomy.csv',\n",
       " 'Templates',\n",
       " 'test.csv',\n",
       " 'test.py',\n",
       " 'test.py.bak',\n",
       " 'test.txt',\n",
       " 'test1.py',\n",
       " 'test1.txt',\n",
       " 'test2.txt',\n",
       " 'test5.txt',\n",
       " 'Time series.ipynb',\n",
       " 'today.txt',\n",
       " 'train.csv',\n",
       " 'Tuples , set , dict .ipynb',\n",
       " 'Tuples.ipynb',\n",
       " 'Untitled.ipynb',\n",
       " 'Untitled1.ipynb',\n",
       " 'Untitled2.ipynb',\n",
       " 'Untitled3.ipynb',\n",
       " 'Untitled4.ipynb',\n",
       " 'Untitled5.ipynb',\n",
       " 'Untitled6.ipynb',\n",
       " 'Untitled7.ipynb',\n",
       " 'Videos',\n",
       " 'zoo.py',\n",
       " '__pycache__']"
      ]
     },
     "execution_count": 4,
     "metadata": {},
     "output_type": "execute_result"
    }
   ],
   "source": [
    "import os\n",
    "os.listdir('.')"
   ]
  },
  {
   "cell_type": "markdown",
   "id": "82fcb491",
   "metadata": {},
   "source": [
    "que5- Create a list of all of the files in your parent directory (minimum five files should be available)."
   ]
  },
  {
   "cell_type": "markdown",
   "id": "83012d0e",
   "metadata": {},
   "source": [
    "ans5- "
   ]
  },
  {
   "cell_type": "code",
   "execution_count": 7,
   "id": "489927dc",
   "metadata": {},
   "outputs": [
    {
     "data": {
      "text/plain": [
       "['Administrator',\n",
       " 'All Users',\n",
       " 'Deep Chandra',\n",
       " 'Default',\n",
       " 'Default User',\n",
       " 'desktop.ini',\n",
       " 'Public',\n",
       " 'Rajat']"
      ]
     },
     "execution_count": 7,
     "metadata": {},
     "output_type": "execute_result"
    }
   ],
   "source": [
    "os.listdir('..')"
   ]
  },
  {
   "cell_type": "markdown",
   "id": "f7c660bd",
   "metadata": {},
   "source": [
    "que6- Use multiprocessing to create three separate processes. Make each one wait a random number of seconds between one and five, print the current time, and then exit."
   ]
  },
  {
   "cell_type": "markdown",
   "id": "98197237",
   "metadata": {},
   "source": [
    "ans6- "
   ]
  },
  {
   "cell_type": "code",
   "execution_count": 13,
   "id": "d4deb550",
   "metadata": {},
   "outputs": [],
   "source": [
    "import multiprocessing\n",
    "def now(seconds):\n",
    "        from datetime import datetime\n",
    "        from time import sleep\n",
    "        sleep(seconds)\n",
    "        print('wait', seconds, 'seconds, time is', datetime.utcnow())\n",
    "if __name__ == '__main__':\n",
    "        import random\n",
    "        for n in range(3):\n",
    "                seconds = random.random()\n",
    "                proc = multiprocessing.Process(target=now, args=(seconds,))\n",
    "                proc.start()"
   ]
  },
  {
   "cell_type": "code",
   "execution_count": 14,
   "id": "f2ea7f15",
   "metadata": {},
   "outputs": [
    {
     "name": "stdout",
     "output_type": "stream",
     "text": [
      "wait 0.2778206993175877 seconds, time is 2023-04-01 07:39:26.580566\n",
      "wait 0.6810999036710895 seconds, time is 2023-04-01 07:39:27.228672\n",
      "wait 0.6919568024180449 seconds, time is 2023-04-01 07:39:27.306802\n"
     ]
    }
   ],
   "source": [
    "!python Multiprocess.py"
   ]
  },
  {
   "cell_type": "markdown",
   "id": "debe0f35",
   "metadata": {},
   "source": [
    "que7- Create a date object of your day of birth."
   ]
  },
  {
   "cell_type": "markdown",
   "id": "c84464e2",
   "metadata": {},
   "source": [
    "ans7- "
   ]
  },
  {
   "cell_type": "code",
   "execution_count": 16,
   "id": "14e1fb5d",
   "metadata": {},
   "outputs": [
    {
     "data": {
      "text/plain": [
       "datetime.date(1995, 11, 9)"
      ]
     },
     "execution_count": 16,
     "metadata": {},
     "output_type": "execute_result"
    }
   ],
   "source": [
    "DOB = date(1995, 11, 9)\n",
    "DOB"
   ]
  },
  {
   "cell_type": "markdown",
   "id": "e13e44b6",
   "metadata": {},
   "source": [
    "que8- What day of the week was your day of birth?"
   ]
  },
  {
   "cell_type": "markdown",
   "id": "8241bd2f",
   "metadata": {},
   "source": [
    "ans8- Thursday"
   ]
  },
  {
   "cell_type": "code",
   "execution_count": 17,
   "id": "31163d46",
   "metadata": {},
   "outputs": [
    {
     "data": {
      "text/plain": [
       "3"
      ]
     },
     "execution_count": 17,
     "metadata": {},
     "output_type": "execute_result"
    }
   ],
   "source": [
    "DOB.weekday()"
   ]
  },
  {
   "cell_type": "markdown",
   "id": "3d4c9c0e",
   "metadata": {},
   "source": [
    "que9- When will you be (or when were you) 10,000 days old?"
   ]
  },
  {
   "cell_type": "markdown",
   "id": "fec18e07",
   "metadata": {},
   "source": [
    "ans9-"
   ]
  },
  {
   "cell_type": "code",
   "execution_count": 18,
   "id": "2a50bd30",
   "metadata": {},
   "outputs": [
    {
     "data": {
      "text/plain": [
       "datetime.date(2023, 3, 27)"
      ]
     },
     "execution_count": 18,
     "metadata": {},
     "output_type": "execute_result"
    }
   ],
   "source": [
    "from datetime import timedelta\n",
    "date = DOB + timedelta(days=10000)\n",
    "date"
   ]
  }
 ],
 "metadata": {
  "kernelspec": {
   "display_name": "Python 3 (ipykernel)",
   "language": "python",
   "name": "python3"
  },
  "language_info": {
   "codemirror_mode": {
    "name": "ipython",
    "version": 3
   },
   "file_extension": ".py",
   "mimetype": "text/x-python",
   "name": "python",
   "nbconvert_exporter": "python",
   "pygments_lexer": "ipython3",
   "version": "3.9.7"
  }
 },
 "nbformat": 4,
 "nbformat_minor": 5
}
